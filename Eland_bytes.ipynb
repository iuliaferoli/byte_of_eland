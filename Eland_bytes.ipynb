{
 "cells": [
  {
   "cell_type": "markdown",
   "metadata": {},
   "source": [
    "### Eland Model Import | Elasticsearch & Python"
   ]
  },
  {
   "cell_type": "markdown",
   "metadata": {},
   "source": [
    "**Everyday at 11:45AM** (CET - European) during 3 weeks and for **only 8 minutes**, we are live on [YouTube](https://www.youtube.com/playlist?list=PL_mJOmq4zsHa6Ii4LArg_r1l08FHleaCl), explaining many things related to text search. \n",
    "\n",
    "It started with [the basics of the Search API](https://www.youtube.com/watch?v=p0KcxhipvbU), then we covered [text analysis](https://www.youtube.com/watch?v=YFkKZSLRSSY) and some [text queries](https://www.youtube.com/watch?v=8yAsuiU51xw), [runtime fields](https://www.youtube.com/watch?v=HpjxfS5rrhI) and [synonyms](https://www.youtube.com/watch?v=eDoxEF11T_4) and the brand new API that landed in 8.10. \n",
    "\n",
    "This eppisode covers using Eland to enrich your data with ML and NLP!\n",
    "\n",
    "Video for this episode: https://www.youtube.com/watch?v=QjkRLuSYGiQ "
   ]
  },
  {
   "cell_type": "markdown",
   "metadata": {},
   "source": [
    "\n",
    "[![Watch the video](logo.jpeg)](https://www.youtube.com/watch?v=QjkRLuSYGiQ )\n"
   ]
  },
  {
   "cell_type": "markdown",
   "metadata": {},
   "source": [
    "### Setup\n",
    "We will connect to our Elastic portal for our project and interact with the bytes cluster through both the dev console and python clients.\n",
    "\n",
    "```\n",
    "pip install -r requirements.txt\n",
    "```"
   ]
  },
  {
   "cell_type": "code",
   "execution_count": 2,
   "metadata": {},
   "outputs": [],
   "source": [
    "import eland as ed\n",
    "import pandas as pd\n",
    "import numpy as np\n",
    "import matplotlib.pyplot as plt\n",
    "\n",
    "from elasticsearch import Elasticsearch"
   ]
  },
  {
   "cell_type": "markdown",
   "metadata": {},
   "source": [
    "You can use whatever method of storing and entering your authentication details you prefer."
   ]
  },
  {
   "cell_type": "code",
   "execution_count": 3,
   "metadata": {},
   "outputs": [],
   "source": [
    "import configparser\n",
    "\n",
    "config = configparser.ConfigParser()\n",
    "config.read('foobar.ini')\n",
    "cloud_id = config[\"cloud-connection\"][\"cloud_id\"]\n",
    "user = config[\"cloud-connection\"][\"user\"] # by default user = \"elastic\"\n",
    "password = config[\"cloud-connection\"][\"password\"]"
   ]
  },
  {
   "cell_type": "markdown",
   "metadata": {},
   "source": [
    "Connect to the Elastic client"
   ]
  },
  {
   "cell_type": "code",
   "execution_count": 4,
   "metadata": {},
   "outputs": [
    {
     "data": {
      "text/plain": [
       "ObjectApiResponse({'name': 'instance-0000000000', 'cluster_name': '08432564cc524d578f625c659b781d42', 'cluster_uuid': 'CmD383sySgagfyqUCNlHhA', 'version': {'number': '8.10.2', 'build_flavor': 'default', 'build_type': 'docker', 'build_hash': '6d20dd8ce62365be9b1aca96427de4622e970e9e', 'build_date': '2023-09-19T08:16:24.564900370Z', 'build_snapshot': False, 'lucene_version': '9.7.0', 'minimum_wire_compatibility_version': '7.17.0', 'minimum_index_compatibility_version': '7.0.0'}, 'tagline': 'You Know, for Search'})"
      ]
     },
     "execution_count": 4,
     "metadata": {},
     "output_type": "execute_result"
    }
   ],
   "source": [
    "\n",
    "client = Elasticsearch(\n",
    "    cloud_id=cloud_id,  # cloud id can be found under deployment management\n",
    "    basic_auth=(user, password) # your username and password for connecting to elastic, found under Deplouments - Security\n",
    ")\n",
    "\n",
    "client.info()"
   ]
  },
  {
   "cell_type": "markdown",
   "metadata": {},
   "source": [
    "### Re-index data for our session"
   ]
  },
  {
   "cell_type": "code",
   "execution_count": null,
   "metadata": {},
   "outputs": [],
   "source": [
    "index = \"bytes-discuss-06\"\n",
    "settings = {\n",
    "    \"index\": {\n",
    "      \"number_of_shards\": 1,\n",
    "      \"number_of_replicas\": 0\n",
    "    },\n",
    "    \"analysis\": {\n",
    "      \"filter\": {\n",
    "        \"english_stemmer\": {\n",
    "          \"type\": \"stemmer\",\n",
    "          \"language\": \"english\"\n",
    "        }\n",
    "      },\n",
    "      \"tokenizer\": {\n",
    "        \"char_group\": {\n",
    "          \"type\": \"char_group\",\n",
    "          \"tokenize_on_chars\": [\n",
    "            \"whitespace\",\n",
    "            \"punctuation\"\n",
    "          ]\n",
    "        }\n",
    "      }, \n",
    "      \"analyzer\": {\n",
    "        \"html_analyzer\": {\n",
    "          \"filter\": [ \"lowercase\" ],\n",
    "          \"char_filter\": [ \"html_strip\" ],\n",
    "          \"tokenizer\": \"standard\"\n",
    "        },\n",
    "        \"title_analyzer\": {\n",
    "          \"char_filter\": [ \"html_strip\" ],\n",
    "          \"tokenizer\": \"char_group\",\n",
    "          \"filter\": [ \"lowercase\", \"english_stemmer\" ]\n",
    "        },\n",
    "        \"path_analyzer\": {\n",
    "          \"filter\": [ \"lowercase\" ],\n",
    "          \"tokenizer\": \"path_hierarchy\"\n",
    "        }\n",
    "      }\n",
    "    }\n",
    "}\n",
    "mappings = {\n",
    "    \"properties\": {\n",
    "      \"category_name\": {\n",
    "        \"type\": \"keyword\"\n",
    "      },\n",
    "      \"duration\": {\n",
    "        \"type\": \"unsigned_long\"\n",
    "      },\n",
    "      \"question\": {\n",
    "        \"properties\": {\n",
    "          \"author\": {\n",
    "            \"properties\": {\n",
    "              \"avatar_template\": {\n",
    "                \"type\": \"text\",\n",
    "                \"analyzer\": \"path_analyzer\"\n",
    "              },\n",
    "              \"name\": {\n",
    "                \"type\": \"text\",\n",
    "                \"fields\": {\n",
    "                  \"keyword\": {\n",
    "                    \"type\": \"keyword\"\n",
    "                  }\n",
    "                }\n",
    "              },\n",
    "              \"username\": {\n",
    "                \"type\": \"search_as_you_type\"\n",
    "              }\n",
    "            }\n",
    "          },\n",
    "          \"date\": {\n",
    "            \"type\": \"date\"\n",
    "          },\n",
    "          \"reads\": {\n",
    "            \"type\": \"short\"\n",
    "          },\n",
    "          \"text\": {\n",
    "            \"type\": \"text\",\n",
    "            \"analyzer\": \"html_analyzer\"\n",
    "          }\n",
    "        }\n",
    "      },\n",
    "      \"solution\": {\n",
    "        \"properties\": {\n",
    "          \"author\": {\n",
    "            \"properties\": {\n",
    "              \"avatar_template\": {\n",
    "                \"type\": \"text\",\n",
    "                \"analyzer\": \"path_analyzer\"\n",
    "              },\n",
    "              \"name\": {\n",
    "                \"type\": \"text\",\n",
    "                \"fields\": {\n",
    "                  \"keyword\": {\n",
    "                    \"type\": \"keyword\"\n",
    "                  }\n",
    "                }\n",
    "              },\n",
    "              \"username\": {\n",
    "                \"type\": \"search_as_you_type\"\n",
    "              }\n",
    "            }\n",
    "          },\n",
    "          \"date\": {\n",
    "            \"type\": \"date\"\n",
    "          },\n",
    "          \"post_number\": {\n",
    "            \"type\": \"short\"\n",
    "          },\n",
    "          \"reads\": {\n",
    "            \"type\": \"short\"\n",
    "          },\n",
    "          \"text\": {\n",
    "            \"type\": \"text\",\n",
    "            \"analyzer\": \"html_analyzer\"\n",
    "          }\n",
    "        }\n",
    "      },\n",
    "      \"title\": {\n",
    "        \"type\": \"text\",\n",
    "        \"analyzer\": \"title_analyzer\"\n",
    "      },\n",
    "      \"topic\": {\n",
    "        \"type\": \"unsigned_long\"\n",
    "      }\n",
    "    }\n",
    "}\n",
    "\n",
    "client.indices.create(index=index, settings=settings, mappings=mappings)"
   ]
  },
  {
   "cell_type": "code",
   "execution_count": 16,
   "metadata": {},
   "outputs": [
    {
     "data": {
      "text/plain": [
       "(26153, 0)"
      ]
     },
     "execution_count": 16,
     "metadata": {},
     "output_type": "execute_result"
    }
   ],
   "source": [
    "from elasticsearch import helpers\n",
    "\n",
    "helpers.reindex(client = client, source_index=\"bytes-discuss-04\", target_index=index)"
   ]
  },
  {
   "cell_type": "markdown",
   "metadata": {},
   "source": [
    "Checking our connection to the cluster"
   ]
  },
  {
   "cell_type": "code",
   "execution_count": 6,
   "metadata": {},
   "outputs": [
    {
     "name": "stdout",
     "output_type": "stream",
     "text": [
      "We get back 10000 results, here are the top ones:\n",
      "1.0 {'topic': 194038, 'title': '_grokparsefailure problem', 'category_name': 'Logstash', 'question': {'text': '<p>Hello,<br>\\nI have a problem with my filter, i get the \"_grokparsefailure\" tag when the concerned logs are processed.<br>\\nHere is my filter file:<br>\\nfilter {<br>\\nif [source] == \"/var/log/auth.log\"{<br>\\ngrok {<br>\\nmatch =&gt;  [ \"message\", \"%{SYSLOGTIMESTAMP:date} %{SYSLOGHOST:host} %{DATA:program}(?:[%{POSINT:pid}])?: %{GREEDYDATA:smt}: %{GREEDYDATA:smt2} for user %{USER:user}\" ]<br>\\nadd_field =&gt; [ \"received_at\", \"%{<span class=\"mention\">@timestamp</span>}\" ]<br>\\nadd_field =&gt; [ \"received_from\", \"%{host}\" ]<br>\\n}<br>\\ndate {<br>\\nmatch =&gt;  [ \"date\", \"MMM d HH:mm:ss\", \"MMM dd HH:mm:ss\" ]<br>\\n}<br>\\n}<br>\\n}<br>\\nI tried it with the input: \"Aug  6 12:17:01 stack CRON[14336]: pam_unix(cron:session): session closed for user root\" on  <a href=\"http://grokdebug.herokuapp.com/\" rel=\"nofollow noopener\">http://grokdebug.herokuapp.com/</a>  and it works fine.<br>\\nIs there any problem with my code ?<br>\\nThank you,<br>\\nManal</p>', 'author': {'username': 'Manal_Sadgal', 'name': 'Manal Sadgal', 'avatar_template': '/user_avatar/discuss.elastic.co/manal_sadgal/{size}/51763_2.png'}, 'date': '2019-08-06T14:48:36.345Z', 'reads': 5}, 'solution': {'text': \"<p>A space was missing , that's why it wasn't working. I fixed it. Thank you !</p>\", 'post_number': 3, 'author': {'username': 'Manal_Sadgal', 'name': 'Manal Sadgal', 'avatar_template': '/user_avatar/discuss.elastic.co/manal_sadgal/{size}/51763_2.png'}, 'date': '2019-08-07T07:42:22.016Z', 'reads': 5}, 'duration': 1014}\n",
      "1.0 {'topic': 194051, 'title': 'How to update alias to capture new matching index patterns?', 'category_name': 'Kibana', 'question': {'text': '<h1>TL;DR</h1>\\n<p>How do I continuously update an alias to capture new matching index patterns?</p>\\n<h1>Longer Version...</h1>\\n<p>We use a non-standard format that looks like this:</p>\\n<pre><code>myapp-beatname-version-YYYY.mm.dd\\n</code></pre>\\n<p>I.e., a <code>heartbeat</code> index will look like:</p>\\n<pre><code>myapp-heartbeat-7.2.0-2019.08.06\\n</code></pre>\\n<p>When using the Uptime module, the <a href=\"https://www.elastic.co/guide/en/uptime/current/install-heartbeat.html\" rel=\"nofollow noopener\">heartbeat documentation</a> notes that the Uptime module matches the index pattern <code>heartbeat-7*</code> and suggests using an alias if the index format doesn\\'t match that. However, the alias documentation makes it clear that the following alias specification:</p>\\n<pre><code>{\\n    \"actions\" : [\\n        { \"add\" : { \"index\" : \"*-heartbeat-*\", \"alias\" : \"heartbeat-7.x.x\" } }\\n    ]\\n}\\n</code></pre>\\n<p>However, the <a href=\"https://www.elastic.co/guide/en/elasticsearch/reference/current/indices-aliases.html\" rel=\"nofollow noopener\">index alias documentation</a> states that:</p>\\n<blockquote>\\n<p>In this case, the alias is a point-in-time alias that will group all current indices that match, it will not automatically update as new indices that match this pattern are added/removed.</p>\\n</blockquote>\\n<p>Obviously, this does not work well with the Uptime module, where the alias must continuously update and capture newly-created aliases.</p>\\n<p>I\\'m certain there is a way around this, but I\\'m still enough of a novice in the ELK stack that I don\\'t see it and haven\\'t been able to find it in my searches.</p>', 'author': {'username': 'DougR', 'name': 'DougR', 'avatar_template': '/user_avatar/discuss.elastic.co/dougr/{size}/48095_2.png'}, 'date': '2019-08-06T16:04:21.724Z', 'reads': 16}, 'solution': {'text': '<p>My workaround for this was to add the following to the template:</p>\\n<pre><code>\"aliases\": {\\n  \"heartbeat-7.3.0-alias\": {}\\n},\\n</code></pre>\\n<p>This has resolved the issue. I already use a script to upload templates to Elasticsearch. This script also edits the templates on the fly to add an additional index pattern match in order to apply it to our alternate index-name convention, so I should be able to update it to add the alias on the fly as well.</p>', 'post_number': 4, 'author': {'username': 'DougR', 'name': 'DougR', 'avatar_template': '/user_avatar/discuss.elastic.co/dougr/{size}/48095_2.png'}, 'date': '2019-08-07T13:35:33.476Z', 'reads': 12}, 'duration': 1291}\n",
      "1.0 {'topic': 194052, 'title': 'Streamed Logs not loaded into Kibana', 'category_name': 'Kibana', 'question': {'text': '<p>Hi there,</p>\\n<p>I am attempting to stream logs from AWS Lambda into Elasticsearch/Kibana.</p>\\n<p>I am doing so via a POST to the Elasticsearch endpoint, + the index and document type (e.g. POST <a href=\"https://example-es-domain.com/alblogs/alb-access-logs/\" rel=\"nofollow noopener\">https://example-es-domain.com/alblogs/alb-access-logs/</a>).</p>\\n<p>I have verified that the lambda is sending out the request by sending to requestbin, and have verified that the information contained in each doc is correct.</p>\\n<p>However I can\\'t see any of the information sent to Elasticsearch being loaded into Kibana, and was wondering if I was missing something.</p>\\n<p>The full flow for the operation is:</p>\\n<p>ALB -&gt; S3 -&gt; AWS Lambda -&gt; Elasticsearch</p>', 'author': {'username': 'ben.sharp', 'name': '', 'avatar_template': 'https://avatars.discourse-cdn.com/v4/letter/b/f08c70/{size}.png'}, 'date': '2019-08-06T16:09:05.638Z', 'reads': 30}, 'solution': {'text': '<p>Please try the following, tested locally in 6.8, I\\'ve used you index + type naming, which is in your case identical.</p>\\n<p>PUT a pattern for you index</p>\\n<pre><code>PUT alb-access-logs\\n{\\n  \"mappings\": {\\n    \"alb-access-logs\": {\\n      \"properties\": {\\n        \"timestamp\": {\\n          \"type\": \"date\"\\n        }\\n      }\\n    }\\n  }\\n}\\n</code></pre>\\n<p>POST an example</p>\\n<pre><code>POST alb-access-logs/alb-access-logs\\n {\\n    \"timestamp\": \"2019-08-06T15:54:46.701974Z\"\\n }\\n</code></pre>\\n<p>Let\\'s check the results:</p>\\n<pre><code> GET alb-access-logs/_search \\n{\\n  \"sort\" : [\\n      {\"timestamp\" : {\"order\" : \"asc\", \"mode\" : \"avg\"}}\\n   ]\\n}\\n</code></pre>\\n<p>this should work</p>', 'post_number': 16, 'author': {'username': 'matw', 'name': 'Matthias Wilhelm', 'avatar_template': '/user_avatar/discuss.elastic.co/matw/{size}/13913_2.png'}, 'date': '2019-08-12T14:51:28.673Z', 'reads': 11}, 'duration': 8562}\n",
      "1.0 {'topic': 194058, 'title': None, 'category_name': None, 'question': {'text': '<ol>\\n<li>\\n<p>There is no pipeline plugin. Unlike other inputs it is implemented in the logstash core.</p>\\n</li>\\n<li>\\n<p>Yes, you can keep using files, no need to use config.string. config.string is simpler to use in the documentation.</p>\\n</li>\\n<li>\\n<p>No, weblogs is not the pipeline id, it is the virtual address of the pipeline input. The pipeline can be called anything.</p>\\n</li>\\n</ol>', 'author': {'username': 'Badger', 'name': '', 'avatar_template': '/user_avatar/discuss.elastic.co/badger/{size}/25190_2.png'}, 'date': '2019-08-06T16:41:52.004Z', 'reads': 102}, 'solution': {'text': '<p>Okay. I have solved the pipeline virtual address problem. The name cannot contain <code>-</code> character, so renaming it to \"legacyva\" resolved my problem.</p>\\n<p>There is some weirdness with yaml that I don\\'t quite understand. As you have described, putting quotes around the [type] variable causes the pipeline to fail to load. Also, setting the type in filebeat to anything other than <code>log</code> causes filebeat to be unable to start. I\\'m thinking it may be expecting certain inputs, but in any case I cannot seem to name this what I want, with or without quotes.</p>\\n<p>So I really need \"tags\" or some other construct in order to perform the loop properly, and I must put quotes and must not put dashes. I am concerned that using \"tags\" affects the logic, as I am only looking for a single flag match, and == I believe means matches exactly. I\\'ll keep testing to see if I can work out this last piece.</p>\\n<p>edit&gt; Did some searching on \"logstash tags conditionals\" and found that the syntax is different. Not sure where this is documented but I copied a gentleman\\'s <a href=\"https://discuss.elastic.co/t/logstash-filter-conditional-if-tags-or/102479\">example</a> and changed from <code>if [tags] == \"tagname\"</code> to <code>if \"tagname\" in [tags]</code>. I do feel better about this, even if I don\\'t understand it, as that == was really bothering me since it needed to be more of a \"contains\" rather than \"is equal to\" (if I\\'m remembering things correctly). Anyways, glad I learned something, and now my conditional statement is catching my file based on a tag! HOORAY!</p>\\n<p>Big thanks to <a class=\"mention\" href=\"/u/badger\">@Badger</a>, I kept trying to drive off the course and you definitely got me back on path more than once!</p>\\n<p>For anyone else who is trying to do specifically this thing in the future, that is to say <strong>ship many different files with filebeat to a single logstash listener, then separate the pipelines by some pre-defined value so that many filters can be used and some modularity is provided for the index choice</strong>, here is the base template you need for your pipeline.conf files:</p>\\n<pre><code>master-pipeline.conf\\ninput {\\n  beats {\\n    port =&gt; \"5000\"\\n  }\\n}\\noutput {\\n### conditional statement to separate logs by tag ###\\n  if \"primary\" in [tags] {\\n    pipeline { send_to =&gt; primaryvirtualaddress }\\n  } else {\\n    pipeline { send_to =&gt; fallbackvirtualaddress }\\n  }\\n}\\n</code></pre>\\n<p>each subsequent pipeline:</p>\\n<pre><code>primary-pipeline.conf\\ninput {\\n  pipeline {\\n    address =&gt; \"primaryvirtualaddress\"\\n  }\\n}\\noutput {\\n  elasticsearch {\\n    hosts =&gt; [\"ES CLUSTER ADDRESS\"]\\n    index =&gt; \"primary_index\"\\n  }\\n}\\n</code></pre>\\n<p>You may be able to remove the quotes from the address, but I\\'m quite sick of re-testing at this point and I know this template works <img src=\"https://emoji.discourse-cdn.com/twitter/slight_smile.png?v=9\" title=\":slight_smile:\" class=\"emoji\" alt=\":slight_smile:\"></p>', 'post_number': 21, 'author': {'username': 'penguinairlines', 'name': 'Andy', 'avatar_template': 'https://avatars.discourse-cdn.com/v4/letter/p/9d8465/{size}.png'}, 'date': '2019-08-07T23:08:41.522Z', 'reads': 48}, 'duration': 1827}\n",
      "1.0 {'topic': 194074, 'title': 'Error in filter elasticsearch plugin', 'category_name': 'Logstash', 'question': {'text': '<p>Hi all,</p>\\n<p>I am using version 7.2.</p>\\n<p>I encountered some trouble while using the filter elasticsearch plugin.</p>\\n<p>The behavior is very random, some of the data uploaded correctly but I also get some error</p>\\n<p>Here is the log from logstash</p>\\n<blockquote>\\n<p>[2019-08-06T10:07:02,177][WARN ][logstash.filters.elasticsearch] Failed to query elasticsearch for previous event {:index=&gt;\"mapping_device_sn\", :error=&gt;\"[400] {\"error\":{\"root_cause\":[{\"type\":\"query_shard_exception\",\"reason\":\"Failed to parse query [sn:%{[device_sn]}]\",\"index_uuid\":\"vnxHfJgsRz6f4KIne-zZrA\",\"index\":\"mapping_device_sn\"}],\"type\":\"search_phase_execution_exception\",\"reason\":\"all shards failed\",\"phase\":\"query\",\"grouped\":true,\"failed_shards\":[{\"shard\":0,\"index\":\"mapping_device_sn\",\"node\":\"kuAYIY0yTlCZM7Du464gYg\",\"reason\":{\"type\":\"query_shard_exception\",\"reason\":\"Failed to parse query [sn:%{[device_sn]}]\",\"index_uuid\":\"vnxHfJgsRz6f4KIne-zZrA\",\"index\":\"mapping_device_sn\",\"caused_by\":{\"type\":\"parse_exception\",\"reason\":\"Cannot parse \\'sn:%{[device_sn]}\\': Encountered \\\\\" \\\\\"]\\\\\" \\\\\"] \\\\\"\\\\\" at line 1, column 15.\\\\nWas expecting:\\\\n    \\\\\"TO\\\\\" ...\\\\n    \",\"caused_by\":{\"type\":\"parse_exception\",\"reason\":\"Encountered \\\\\" \\\\\"]\\\\\" \\\\\"] \\\\\"\\\\\" at line 1, column 15.\\\\nWas expecting:\\\\n    \\\\\"TO\\\\\" ...\\\\n    \"}}}}]},\"status\":400}\"}</p>\\n</blockquote>\\n<p>Log from elasticsearch</p>\\n<pre><code>[elasticsearch.server][DEBUG] All shards failed for phase: [query]\\n\\n[elasticsearch.server][DEBUG] [0], node[kuAYIY0yTlCZM7Du464gYg], [P], s[STARTED], a[id=NKeTm6rjTgCj_zwuFPyacA]: Failed to execute [SearchRequest{searchType=QUERY_THEN_FETCH, indices=[mapping_device_sn], indicesOptions=IndicesOptions[ignore_unavailable=false, allow_no_indices=true, expand_wildcards_open=true, expand_wildcards_closed=false, allow_aliases_to_multiple_indices=true, forbid_closed_indices=true, ignore_aliases=false, ignore_throttled=true], types=[], routing=\\'null\\', preference=\\'null\\', requestCache=null, scroll=null, maxConcurrentShardRequests=0, batchedReduceSize=512, preFilterShardSize=128, allowPartialSearchResults=true, localClusterAlias=null, getOrCreateAbsoluteStartMillis=-1, ccsMinimizeRoundtrips=true, source={\"size\":1,\"query\":{\"query_string\":{\"query\":\"sn:%{[device_sn]}\",\"fields\":[],\"type\":\"best_fields\",\"default_operator\":\"or\",\"max_determinized_states\":10000,\"enable_position_increments\":true,\"fuzziness\":\"AUTO\",\"fuzzy_prefix_length\":0,\"fuzzy_max_expansions\":50,\"phrase_slop\":0,\"analyze_wildcard\":false,\"escape\":false,\"auto_generate_synonyms_phrase_query\":true,\"fuzzy_transpositions\":true,\"boost\":1.0}},\"sort\":[{\"@timestamp\":{\"order\":\"desc\"}}]}}]\\n</code></pre>\\n<p>My logstash config</p>\\n<pre><code>input {\\n    file {\\n        path =&gt; \"/data/ELK_raw/IPS/data/*/ips_aggregate.csv\"\\n        sincedb_path =&gt; \"/dev/null\"\\n        mode =&gt; \"read\"\\n        file_completed_action =&gt; \"log\"\\n        file_completed_log_path =&gt; \"/data/ELK/read_log/ips_read_log.txt\"\\n        type =&gt; \"ips\"\\n    }\\n}\\n\\nfilter {\\n    csv {\\n        autodetect_column_names =&gt; \"true\"\\n        autogenerate_column_names =&gt; \"true\"\\n        skip_header =&gt; \"true\"\\n        separator =&gt; \",\"\\n    }\\nelasticsearch {\\n        hosts =&gt; [\"localhost:9200\"]\\n        index =&gt; \"mapping_ips\"\\n        query =&gt; \"id:%{[id]}\"\\n        result_size =&gt; 1\\n        fields =&gt; {\\n            \" signature_name\" =&gt; \"signature_name\"\\n            \" engine_rule\" =&gt; \"engine_rule\"\\n        }\\n    }\\n\\n   elasticsearch {\\n        hosts =&gt; [\"localhost:9200\"]\\n        index =&gt; \"mapping_device_sn\"\\n        query =&gt; \"sn:%{[device_sn]}\"\\n        result_size =&gt; 1\\n        fields =&gt; {\\n            \"first_industry\" =&gt; \"first_industry\"\\n            \"customer\" =&gt; \"customer\"\\n            \"is_trial\" =&gt; \"is_trial\"\\n            \"product_type\" =&gt; \"product_type\"\\n            \"second_industry\" =&gt; \"second_industry\"\\n            \"warranty_date\" =&gt; \"warranty_date\"\\n        }\\n    }\\n\\n   mutate {\\n        remove_field =&gt; [ \"@timestamp\" ]\\n        remove_field =&gt; [ \"@version\" ]\\n        remove_field =&gt; [ \"host\" ]\\n        remove_field =&gt; [ \"message\" ]\\n        remove_field =&gt; [ \"path\" ] \\n        remove_field =&gt; [ \"type\" ] \\n    }   \\n}\\n\\noutput {\\n    elasticsearch {\\n        hosts =&gt; [\"localhost:9200\"]\\n        index =&gt; \"cv_ips\"\\n    }\\n}\\n</code></pre>\\n<p>Have anyone encountered this before?</p>\\n<p>Thanks</p>', 'author': {'username': 'leeyu', 'name': '', 'avatar_template': '/user_avatar/discuss.elastic.co/leeyu/{size}/48561_2.png'}, 'date': '2019-08-06T17:51:54.408Z', 'reads': 36}, 'solution': {'text': \"<p>Can you do the 'grep -rn ...' and verify that the line number is always 1?</p>\\n<p>You do have --pipeline.workers 1 set, right?</p>\", 'post_number': 7, 'author': {'username': 'Badger', 'name': '', 'avatar_template': '/user_avatar/discuss.elastic.co/badger/{size}/25190_2.png'}, 'date': '2019-08-06T22:32:24.947Z', 'reads': 21}, 'duration': 281}\n",
      "1.0 {'topic': 194077, 'title': 'Kibana Maps: Results limited to first 10000 documents', 'category_name': 'Kibana', 'question': {'text': '<p>Hi all,</p>\\n<p>I\\'m testing the Kibana Maps feature (7.3 version) and it\\'s really great, kudos! However, as I intend to work with a huge (about billions of documents) index, I could not help but notice that a message saying \"Results limited to first 10000 documents\" is shown when I hover the mouse over each layer header.</p>\\n<p>I would like to configure this limit... Is it possible?</p>\\n<p>I tried to increase the value of the \"index.max_result_window\" setting, to no avail.</p>\\n<p>Thanks in advance.</p>', 'author': {'username': 'Celio_Nogueira_de_Fa', 'name': 'Celio Jr', 'avatar_template': '/user_avatar/discuss.elastic.co/celio_nogueira_de_fa/{size}/859_2.png'}, 'date': '2019-08-06T18:15:07.170Z', 'reads': 33}, 'solution': {'text': '<p>It looks like this setting is not based on the <code>index.max_result_window</code> setting, as you can see in the constants file in the new maps app: <a href=\"https://github.com/elastic/kibana/blob/master/x-pack/legacy/plugins/maps/common/constants.js#L41\" rel=\"nofollow noopener\">https://github.com/elastic/kibana/blob/master/x-pack/legacy/plugins/maps/common/constants.js#L41</a></p>\\n<p>This is probably worth filing an issue on Github for.</p>', 'post_number': 2, 'author': {'username': 'wylie', 'name': 'Wylie Conlon', 'avatar_template': '/user_avatar/discuss.elastic.co/wylie/{size}/81794_2.png'}, 'date': '2019-08-06T19:12:56.896Z', 'reads': 32}, 'duration': 58}\n",
      "1.0 {'topic': 194085, 'title': 'Grok Stops Reading at a Backslash?', 'category_name': 'Logstash', 'question': {'text': '<p>This is an extension to a <a href=\"https://discuss.elastic.co/t/grok-parsing-a-string-with-spaces/193855\">previously solved topic</a>.</p>\\n<p>I have this log here (as it appears in the console)</p>\\n<p><code>2019-08-05 08:55:15 - jcramer(Software Programmer) - Successfully updated profile</code></p>\\n<p>that I\\'ve successfully been able to parse with this Grok configuration,</p>\\n<pre><code class=\"lang-auto\">grok { \\n    match =&gt; { \"message\" =&gt; \"^%{TIMESTAMP_ISO8601:syslog_timestamp} - \\n    %{USERNAME:syslog_username}\\\\((?&lt;syslog_userinfo&gt;[^)]*)\\\\)\\\\s+- \\n    %{GREEDYDATA:syslog_message}\" } \\n}\\n</code></pre>\\n<p>however, I receive a _grokparsefailure when the username appears like this in the console:</p>\\n<p><code>2019-08-05 08:55:15 - STEM\\\\\\\\psmith(Hardware Engineer) - Successfully updated profile</code></p>\\n<p>The acronym before the username is meant to represent something like a department or location. Somehow the inclusion of the backslash causes Grok to not recognize the pattern. I would like to parse the username so that the backslash and information prior to it are included in the username.</p>\\n<p>So, the end result can look like this</p>\\n<pre><code class=\"lang-auto\">\"syslog_username\" =&gt; \"jcramer\"\\n</code></pre>\\n<p>or this</p>\\n<pre><code class=\"lang-auto\">\"syslog_username\" =&gt; \"STEM\\\\\\\\psmith\"\\n</code></pre>', 'author': {'username': 'jakecramer17', 'name': 'Jake Cramer', 'avatar_template': 'https://avatars.discourse-cdn.com/v4/letter/j/9dc877/{size}.png'}, 'date': '2019-08-06T18:50:04.643Z', 'reads': 36}, 'solution': {'text': '<p>Use a custom pattern with the first part optional</p>\\n<pre><code>(?&lt;syslog_username&gt;([a-zA-Z0-9\\\\._-]+\\\\\\\\\\\\\\\\)?[a-zA-Z0-9\\\\._-]+)\\\\((?&lt;syslog_userinfo&gt;[^)]*)\\\\)</code></pre>', 'post_number': 2, 'author': {'username': 'Badger', 'name': '', 'avatar_template': '/user_avatar/discuss.elastic.co/badger/{size}/25190_2.png'}, 'date': '2019-08-06T18:58:33.701Z', 'reads': 34}, 'duration': 8}\n",
      "1.0 {'topic': 194091, 'title': 'Deleting an index does not seem to delete external versioning', 'category_name': 'Elasticsearch', 'question': {'text': '<p>I am running into an issue using the external versioning where deleting the index does not seem to clear the external versioning for that given index.</p>\\n<p>Steps to recreate:</p>\\n<ol>\\n<li>Create an index</li>\\n<li>Put an item with</li>\\n</ol>\\n<pre><code class=\"lang-auto\">id: \\'someid\\',\\nversion: 0,\\nversion_type: \\'external\\',\\n</code></pre>\\n<p>into the index</p>\\n<ol start=\"3\">\\n<li>delete the index</li>\\n<li>Wait arbitrarily long</li>\\n<li>Create the same index</li>\\n<li>Put the same item with</li>\\n</ol>\\n<pre><code class=\"lang-auto\">id: \\'someid\\',\\nversion: 0,\\nversion_type: \\'external\\',\\n</code></pre>\\n<p>into the index and I get a <code>version_conflict_engine_exception</code></p>\\n<pre><code class=\"lang-auto\">\"name\": \"ResponseError\",\\n  \"meta\": {\\n    \"body\": {\\n      \"error\": {\\n        \"root_cause\": [\\n          {\\n            \"type\": \"version_conflict_engine_exception\",\\n            \"reason\": \"[contact_v1][someid]: version conflict, current version [1] is higher or equal to the one provided [1]\",\\n            \"index_uuid\": \"PvmFtcibTfmBCu8C7iQ43Q\",\\n            \"shard\": \"0\",\\n            \"index\": \"stpze-contacts-3\"\\n          }\\n        ],\\n        \"type\": \"version_conflict_engine_exception\",\\n        \"reason\": \"[contact_v1][someid]: version conflict, current version [1] is higher or equal to the one provided [1]\",\\n        \"index_uuid\": \"PvmFtcibTfmBCu8C7iQ43Q\",\\n        \"shard\": \"0\",\\n        \"index\": \"stpze-contacts-3\"\\n      },\\n      \"status\": 409\\n    },\\n    \"statusCode\": 409,\\n</code></pre>\\n<p>My elastic cluster is running in a docker container</p>\\n<pre><code class=\"lang-auto\">{\\n  \"name\": \"0_cod3F\",\\n  \"cluster_name\": \"docker-cluster\",\\n  \"cluster_uuid\": \"Cvy3FFwdTuuwXHG8S6ws6A\",\\n  \"version\": {\\n    \"number\": \"6.4.3\",\\n    \"build_flavor\": \"default\",\\n    \"build_type\": \"tar\",\\n    \"build_hash\": \"fe40335\",\\n    \"build_date\": \"2018-10-30T23:17:19.084789Z\",\\n    \"build_snapshot\": false,\\n    \"lucene_version\": \"7.4.0\",\\n    \"minimum_wire_compatibility_version\": \"5.6.0\",\\n    \"minimum_index_compatibility_version\": \"5.0.0\"\\n  },\\n  \"tagline\": \"You Know, for Search\"\\n}\\n</code></pre>\\n<p>When printing all entries in the index it returns an empty list</p>\\n<pre><code class=\"lang-auto\">{\\n    \"took\": 1,\\n    \"timed_out\": false,\\n    \"_shards\": {\\n        \"total\": 3,\\n        \"successful\": 3,\\n        \"skipped\": 0,\\n        \"failed\": 0\\n    },\\n    \"hits\": {\\n        \"total\": 0,\\n        \"max_score\": null,\\n        \"hits\": []\\n    }\\n}\\n</code></pre>\\n<p>Is there some extra step involved in deleting the <code>external</code> verisoning metadata?</p>', 'author': {'username': 'Philiiiiiipp', 'name': 'Philipp', 'avatar_template': '/user_avatar/discuss.elastic.co/philiiiiiipp/{size}/51782_2.png'}, 'date': '2019-08-06T19:16:56.311Z', 'reads': 15}, 'solution': {'text': '<p>Ok yes deleting an externally-versioned document from an index that does not exist will actually create the index in order to record the deletion:</p>\\n<pre><code class=\"lang-auto\">GET /_cat/indices\\n\\n# 200 OK\\n\\nDELETE /i/_doc/someid?version=0&amp;version_type=external\\n\\n# 404 Not Found\\n# {\\n#   \"_type\": \"_doc\",\\n#   \"_primary_term\": 1,\\n#   \"_id\": \"someid\",\\n#   \"_shards\": {\\n#     \"successful\": 1,\\n#     \"total\": 2,\\n#     \"failed\": 0\\n#   },\\n#   \"_index\": \"i\",\\n#   \"result\": \"not_found\",\\n#   \"_version\": 0,\\n#   \"_seq_no\": 0\\n# }\\n\\nGET /_cat/indices\\n\\n# 200 OK\\n# yellow open i Pqo2tMyMRyOTOXvFAUk0Tw 5 1 0 0 1.1kb 1.1kb\\n#\\n</code></pre>', 'post_number': 6, 'author': {'username': 'DavidTurner', 'name': 'David Turner', 'avatar_template': '/user_avatar/discuss.elastic.co/davidturner/{size}/22453_2.png'}, 'date': '2019-08-07T05:54:55.862Z', 'reads': 10}, 'duration': 638}\n",
      "1.0 {'topic': 194111, 'title': 'NGram search troubles(Is it possible to match entire string)', 'category_name': 'Elasticsearch', 'question': {'text': '<p>I am almost positive that this is a simple misunderstanding on my part as I\\'m very new to Elasticsearch.  I am trying to implement a substring matching search using ngrams.  I\\'ve got it set as max_ngram_diff of 10. My setup looks something like:</p>\\n<pre><code>  \"filter\": {\\n      \"barcode_filter\": {\\n        \"type\": \"nGram\",\\n        \"min_gram\": \"4\",\\n        \"max_gram\": \"14\"\\n      }\\n    },\\n    \"analyzer\": {\\n      \"barcode_filter_analyzer\": {\\n        \"filter\": [\\n          \"lowercase\",\\n          \"barcode_filter\"\\n        ],\\n        \"type\": \"custom\",\\n        \"tokenizer\": \"standard\"\\n      }\\n    }\\n</code></pre>\\n<p>My field is defined as barcode with analyzer set to barcode_filter_analyzer.</p>\\n<p>My goal is to be able to find substrings. So something like \"V741\"  should find every barcode with that substring.  Something like \"ZR000041\" should also find every barcode containing that entire substring.  While the second example will find every barcode containing the entire substring, it also finds every barcode containing \"0000\" for example. My initial thought was to use the score but that doesn\\'t seem to work as a barcode like 00000000000101 will end up having a very high score.</p>\\n<p>Is there any good way to require that the entire query string be found? This is currently only in testing on my PC so anything requiring scrapping and restarting the index is not a big deal so if I\\'m approaching this in entirely the wrong way I\\'m happy to adjust.  Any help at all would be greatly appreciated!</p>', 'author': {'username': 'N_Antech', 'name': '', 'avatar_template': 'https://avatars.discourse-cdn.com/v4/letter/n/898d66/{size}.png'}, 'date': '2019-08-06T22:45:52.047Z', 'reads': 20}, 'solution': {'text': '<p>To add to Alex\\' explanation here, one solution could be to provide a search analyzer that does not apply the ngram filter to the query terms. You could do that by configuring a <code>search_analyzer</code> in your mapping, or by providing an <code>analyzer</code> in your query:</p>\\n<pre><code class=\"lang-auto\">GET test/_search \\n{\\n  \"query\": {\\n    \"match\": {\\n      \"my_field\": {\\n        \"query\": \"ZR000041\",\\n        \"analyzer\": \"standard\"\\n      }\\n    }\\n  }\\n}\\n</code></pre>', 'post_number': 3, 'author': {'username': 'abdon', 'name': 'Abdon Pijpelink', 'avatar_template': '/user_avatar/discuss.elastic.co/abdon/{size}/9195_2.png'}, 'date': '2019-08-07T15:03:13.749Z', 'reads': 14}, 'duration': 977}\n",
      "1.0 {'topic': 194129, 'title': 'Functionbeat license error', 'category_name': 'Beats', 'question': {'text': '<p>I have successfully setup functionbeat on aws, but I am getting following license error, license manager stops and function stops:</p>\\n<p>2019-08-07T03:11:55.435Z\\tINFO\\t[functionbeat]\\tbeater/functionbeat.go:74\\tFunctionbeat is running<br>\\n2019-08-07T03:11:55.435Z\\tINFO\\telasticsearch/client.go:170\\tElasticsearch url: <a href=\"http://10.56.0.100:9200\" rel=\"nofollow noopener\">http://10.56.0.100:9200</a><br>\\n2019-08-07T03:11:55.435Z\\tINFO\\t[license-manager]\\tlicenser/manager.go:184\\tLicense manager started, retrieving initial license<br>\\n2019-08-07T03:11:55.435Z\\tINFO\\t[functionbeat]\\tlicenser/manager.go:331\\tWaiting on synchronous license check<br>\\n2019-08-07T03:11:55.435Z\\tINFO\\t[monitoring]\\tlog/log.go:118\\tStarting metrics logging every 30s<br>\\n2019-08-07T03:11:55.987Z\\tINFO\\telasticsearch/client.go:743\\tAttempting to connect to Elasticsearch version 7.3.0<br>\\n2019-08-07T03:11:56.026Z\\tINFO\\t[license-manager]\\tlicenser/manager.go:282\\tValid license retrieved\\t{\"license mode\": \"Open source\", \"type\": \"Open source\", \"status\": \"Active\"}<br>\\n2019-08-07T03:11:56.026Z\\tINFO\\t[functionbeat]\\tlicenser/check.go:35\\tLicense is active for Basic<br>\\n2019-08-07T03:11:56.026Z\\tINFO\\t[functionbeat]\\tlicenser/manager.go:339\\tLicense is valid, mode: Open source<br>\\n2019-08-07T03:11:56.026Z\\tINFO\\t[license-manager]\\tlicenser/manager.go:211\\tLicense manager stopped<br>\\n2019-08-07T03:11:56.026Z\\tINFO\\t[functionbeat]\\tbeater/functionbeat.go:86\\tFunctionbeat stopped running<br>\\n2019-08-07T03:11:56.028Z\\tINFO\\t[monitoring]\\tlog/log.go:154\\tUptime: 639.743036ms<br>\\n2019-08-07T03:11:56.028Z\\tINFO\\t[monitoring]\\tlog/log.go:131\\tStopping metrics logging.<br>\\n2019-08-07T03:11:56.028Z\\tINFO\\tinstance/beat.go:431\\tfunctionbeat stopped.<br>\\n2019-08-07T03:11:56.028Z\\tERROR\\tinstance/beat.go:877\\tExiting: invalid license<br>\\nExiting: invalid license</p>\\n<p>Will appreciate quick response</p>', 'author': {'username': 'smahmud', 'name': 'Shahid Mahmud', 'avatar_template': '/user_avatar/discuss.elastic.co/smahmud/{size}/51804_2.png'}, 'date': '2019-08-07T03:19:04.013Z', 'reads': 16}, 'solution': {'text': '<p>You are trying to connect to an Elasticsearch with OSS license. You need at least Basic license in ES for Functionbeat to run. You can download ES with basic license here: <a href=\"https://www.elastic.co/subscriptions\" rel=\"nofollow noopener\">https://www.elastic.co/subscriptions</a></p>', 'post_number': 2, 'author': {'username': 'kvch', 'name': 'Noémi Ványi', 'avatar_template': '/user_avatar/discuss.elastic.co/kvch/{size}/72058_2.png'}, 'date': '2019-08-07T12:12:23.783Z', 'reads': 15}, 'duration': 533}\n"
     ]
    }
   ],
   "source": [
    "index = \"bytes-discuss-06\"\n",
    "response = client.search(index = index)\n",
    "\n",
    "\n",
    "print(\"We get back {total} results, here are the top ones:\".format(total=response[\"hits\"]['total']['value']))\n",
    "for hit in response[\"hits\"][\"hits\"]:\n",
    "    print(hit[\"_score\"], hit['_source'])"
   ]
  },
  {
   "cell_type": "markdown",
   "metadata": {},
   "source": [
    "### Data Exploration"
   ]
  },
  {
   "cell_type": "markdown",
   "metadata": {},
   "source": [
    "Eland is Elastic's Python client for Machine Learning capabilities. \n",
    "\n",
    "Check out the docs here: https://eland.readthedocs.io/en/v8.10.1/index.html \n",
    "\n",
    "\n",
    "We can use the native data frame introduced by Eland for data analysis, and we can import models for both simple ML tasks like classification, as well as more complex external models for NLP capabilities. "
   ]
  },
  {
   "cell_type": "code",
   "execution_count": 5,
   "metadata": {},
   "outputs": [
    {
     "data": {
      "text/html": [
       "<div>\n",
       "<style scoped>\n",
       "    .dataframe tbody tr th:only-of-type {\n",
       "        vertical-align: middle;\n",
       "    }\n",
       "\n",
       "    .dataframe tbody tr th {\n",
       "        vertical-align: top;\n",
       "    }\n",
       "\n",
       "    .dataframe thead th {\n",
       "        text-align: right;\n",
       "    }\n",
       "</style>\n",
       "<table border=\"1\" class=\"dataframe\">\n",
       "  <thead>\n",
       "    <tr style=\"text-align: right;\">\n",
       "      <th></th>\n",
       "      <th>category_name</th>\n",
       "      <th>duration</th>\n",
       "      <th>question.author.avatar_template</th>\n",
       "      <th>question.author.name</th>\n",
       "      <th>question.author.username</th>\n",
       "      <th>question.date</th>\n",
       "      <th>question.reads</th>\n",
       "      <th>question.text</th>\n",
       "      <th>solution.author.avatar_template</th>\n",
       "      <th>solution.author.name</th>\n",
       "      <th>solution.author.username</th>\n",
       "      <th>solution.date</th>\n",
       "      <th>solution.post_number</th>\n",
       "      <th>solution.reads</th>\n",
       "      <th>solution.text</th>\n",
       "      <th>title</th>\n",
       "      <th>topic</th>\n",
       "    </tr>\n",
       "  </thead>\n",
       "  <tbody>\n",
       "    <tr>\n",
       "      <th>194038</th>\n",
       "      <td>Logstash</td>\n",
       "      <td>1014</td>\n",
       "      <td>/user_avatar/discuss.elastic.co/manal_sadgal/{...</td>\n",
       "      <td>Manal Sadgal</td>\n",
       "      <td>Manal_Sadgal</td>\n",
       "      <td>2019-08-06 14:48:36.345000+00:00</td>\n",
       "      <td>5</td>\n",
       "      <td>&lt;p&gt;Hello,&lt;br&gt;\\nI have a problem with my filter...</td>\n",
       "      <td>/user_avatar/discuss.elastic.co/manal_sadgal/{...</td>\n",
       "      <td>Manal Sadgal</td>\n",
       "      <td>Manal_Sadgal</td>\n",
       "      <td>2019-08-07 07:42:22.016000+00:00</td>\n",
       "      <td>3</td>\n",
       "      <td>5</td>\n",
       "      <td>&lt;p&gt;A space was missing , that's why it wasn't ...</td>\n",
       "      <td>_grokparsefailure problem</td>\n",
       "      <td>194038</td>\n",
       "    </tr>\n",
       "    <tr>\n",
       "      <th>194051</th>\n",
       "      <td>Kibana</td>\n",
       "      <td>1291</td>\n",
       "      <td>/user_avatar/discuss.elastic.co/dougr/{size}/4...</td>\n",
       "      <td>DougR</td>\n",
       "      <td>DougR</td>\n",
       "      <td>2019-08-06 16:04:21.724000+00:00</td>\n",
       "      <td>16</td>\n",
       "      <td>&lt;h1&gt;TL;DR&lt;/h1&gt;\\n&lt;p&gt;How do I continuously updat...</td>\n",
       "      <td>/user_avatar/discuss.elastic.co/dougr/{size}/4...</td>\n",
       "      <td>DougR</td>\n",
       "      <td>DougR</td>\n",
       "      <td>2019-08-07 13:35:33.476000+00:00</td>\n",
       "      <td>4</td>\n",
       "      <td>12</td>\n",
       "      <td>&lt;p&gt;My workaround for this was to add the follo...</td>\n",
       "      <td>How to update alias to capture new matching in...</td>\n",
       "      <td>194051</td>\n",
       "    </tr>\n",
       "    <tr>\n",
       "      <th>194052</th>\n",
       "      <td>Kibana</td>\n",
       "      <td>8562</td>\n",
       "      <td>https://avatars.discourse-cdn.com/v4/letter/b/...</td>\n",
       "      <td></td>\n",
       "      <td>ben.sharp</td>\n",
       "      <td>2019-08-06 16:09:05.638000+00:00</td>\n",
       "      <td>30</td>\n",
       "      <td>&lt;p&gt;Hi there,&lt;/p&gt;\\n&lt;p&gt;I am attempting to stream...</td>\n",
       "      <td>/user_avatar/discuss.elastic.co/matw/{size}/13...</td>\n",
       "      <td>Matthias Wilhelm</td>\n",
       "      <td>matw</td>\n",
       "      <td>2019-08-12 14:51:28.673000+00:00</td>\n",
       "      <td>16</td>\n",
       "      <td>11</td>\n",
       "      <td>&lt;p&gt;Please try the following, tested locally in...</td>\n",
       "      <td>Streamed Logs not loaded into Kibana</td>\n",
       "      <td>194052</td>\n",
       "    </tr>\n",
       "    <tr>\n",
       "      <th>194058</th>\n",
       "      <td>None</td>\n",
       "      <td>1827</td>\n",
       "      <td>/user_avatar/discuss.elastic.co/badger/{size}/...</td>\n",
       "      <td></td>\n",
       "      <td>Badger</td>\n",
       "      <td>2019-08-06 16:41:52.004000+00:00</td>\n",
       "      <td>102</td>\n",
       "      <td>&lt;ol&gt;\\n&lt;li&gt;\\n&lt;p&gt;There is no pipeline plugin. Un...</td>\n",
       "      <td>https://avatars.discourse-cdn.com/v4/letter/p/...</td>\n",
       "      <td>Andy</td>\n",
       "      <td>penguinairlines</td>\n",
       "      <td>2019-08-07 23:08:41.522000+00:00</td>\n",
       "      <td>21</td>\n",
       "      <td>48</td>\n",
       "      <td>&lt;p&gt;Okay. I have solved the pipeline virtual ad...</td>\n",
       "      <td>None</td>\n",
       "      <td>194058</td>\n",
       "    </tr>\n",
       "    <tr>\n",
       "      <th>194074</th>\n",
       "      <td>Logstash</td>\n",
       "      <td>281</td>\n",
       "      <td>/user_avatar/discuss.elastic.co/leeyu/{size}/4...</td>\n",
       "      <td></td>\n",
       "      <td>leeyu</td>\n",
       "      <td>2019-08-06 17:51:54.408000+00:00</td>\n",
       "      <td>36</td>\n",
       "      <td>&lt;p&gt;Hi all,&lt;/p&gt;\\n&lt;p&gt;I am using version 7.2.&lt;/p&gt;...</td>\n",
       "      <td>/user_avatar/discuss.elastic.co/badger/{size}/...</td>\n",
       "      <td></td>\n",
       "      <td>Badger</td>\n",
       "      <td>2019-08-06 22:32:24.947000+00:00</td>\n",
       "      <td>7</td>\n",
       "      <td>21</td>\n",
       "      <td>&lt;p&gt;Can you do the 'grep -rn ...' and verify th...</td>\n",
       "      <td>Error in filter elasticsearch plugin</td>\n",
       "      <td>194074</td>\n",
       "    </tr>\n",
       "    <tr>\n",
       "      <th>...</th>\n",
       "      <td>...</td>\n",
       "      <td>...</td>\n",
       "      <td>...</td>\n",
       "      <td>...</td>\n",
       "      <td>...</td>\n",
       "      <td>...</td>\n",
       "      <td>...</td>\n",
       "      <td>...</td>\n",
       "      <td>...</td>\n",
       "      <td>...</td>\n",
       "      <td>...</td>\n",
       "      <td>...</td>\n",
       "      <td>...</td>\n",
       "      <td>...</td>\n",
       "      <td>...</td>\n",
       "      <td>...</td>\n",
       "      <td>...</td>\n",
       "    </tr>\n",
       "    <tr>\n",
       "      <th>343469</th>\n",
       "      <td>Elastic Agent</td>\n",
       "      <td>89</td>\n",
       "      <td>https://avatars.discourse-cdn.com/v4/letter/r/...</td>\n",
       "      <td>Rachel Yang</td>\n",
       "      <td>rachelyang</td>\n",
       "      <td>2023-09-20 14:35:11.214000+00:00</td>\n",
       "      <td>5</td>\n",
       "      <td>&lt;p&gt;Hi,&lt;br&gt;\\nI want to integrate the AWS logs i...</td>\n",
       "      <td>/user_avatar/discuss.elastic.co/leandrojmp/{si...</td>\n",
       "      <td>Leandro Pereira</td>\n",
       "      <td>leandrojmp</td>\n",
       "      <td>2023-09-20 16:04:35.452000+00:00</td>\n",
       "      <td>4</td>\n",
       "      <td>2</td>\n",
       "      <td>&lt;aside class=\"quote no-group\" data-username=\"r...</td>\n",
       "      <td>AWS logging integration error</td>\n",
       "      <td>343469</td>\n",
       "    </tr>\n",
       "    <tr>\n",
       "      <th>343471</th>\n",
       "      <td>Kibana</td>\n",
       "      <td>275</td>\n",
       "      <td>https://avatars.discourse-cdn.com/v4/letter/e/...</td>\n",
       "      <td></td>\n",
       "      <td>emmanuel_t</td>\n",
       "      <td>2023-09-20 14:49:21.600000+00:00</td>\n",
       "      <td>5</td>\n",
       "      <td>&lt;p&gt;I see that the saved objects API is depreca...</td>\n",
       "      <td>/user_avatar/discuss.elastic.co/priscilla_paro...</td>\n",
       "      <td>Priscilla Parodi</td>\n",
       "      <td>Priscilla_Parodi</td>\n",
       "      <td>2023-09-20 19:24:16.162000+00:00</td>\n",
       "      <td>2</td>\n",
       "      <td>4</td>\n",
       "      <td>&lt;p&gt;Hello &lt;a class=\"mention\" href=\"/u/emmanuel_...</td>\n",
       "      <td>REST api: delete dashboard</td>\n",
       "      <td>343471</td>\n",
       "    </tr>\n",
       "    <tr>\n",
       "      <th>343472</th>\n",
       "      <td>Beats</td>\n",
       "      <td>281</td>\n",
       "      <td>/user_avatar/discuss.elastic.co/krische/{size}...</td>\n",
       "      <td></td>\n",
       "      <td>krische</td>\n",
       "      <td>2023-09-20 15:12:50.580000+00:00</td>\n",
       "      <td>7</td>\n",
       "      <td>&lt;p&gt;I have ECK setup and running on my kubernet...</td>\n",
       "      <td>/user_avatar/discuss.elastic.co/krische/{size}...</td>\n",
       "      <td></td>\n",
       "      <td>krische</td>\n",
       "      <td>2023-09-20 19:54:06.290000+00:00</td>\n",
       "      <td>3</td>\n",
       "      <td>5</td>\n",
       "      <td>&lt;p&gt;It looks like part of my issue was a typo i...</td>\n",
       "      <td>Can&amp;rsquo;t get Filebeat to ship Nginx Ingress...</td>\n",
       "      <td>343472</td>\n",
       "    </tr>\n",
       "    <tr>\n",
       "      <th>343478</th>\n",
       "      <td>Logstash</td>\n",
       "      <td>16</td>\n",
       "      <td>https://avatars.discourse-cdn.com/v4/letter/m/...</td>\n",
       "      <td></td>\n",
       "      <td>mikec1</td>\n",
       "      <td>2023-09-20 16:37:50.130000+00:00</td>\n",
       "      <td>4</td>\n",
       "      <td>&lt;p&gt;I have a pipeline whereby the input section...</td>\n",
       "      <td>/user_avatar/discuss.elastic.co/leandrojmp/{si...</td>\n",
       "      <td>Leandro Pereira</td>\n",
       "      <td>leandrojmp</td>\n",
       "      <td>2023-09-20 16:54:12.050000+00:00</td>\n",
       "      <td>2</td>\n",
       "      <td>4</td>\n",
       "      <td>&lt;aside class=\"quote no-group\" data-username=\"m...</td>\n",
       "      <td>Invalid cron expression for schedule field of ...</td>\n",
       "      <td>343478</td>\n",
       "    </tr>\n",
       "    <tr>\n",
       "      <th>343495</th>\n",
       "      <td>APM</td>\n",
       "      <td>727</td>\n",
       "      <td>/user_avatar/discuss.elastic.co/senyam08/{size...</td>\n",
       "      <td>Senthilkumar rasan</td>\n",
       "      <td>senyam08</td>\n",
       "      <td>2023-09-21 01:24:30.282000+00:00</td>\n",
       "      <td>3</td>\n",
       "      <td>&lt;p&gt;Could you help with setting up async profil...</td>\n",
       "      <td>/user_avatar/discuss.elastic.co/senyam08/{size...</td>\n",
       "      <td>Senthilkumar rasan</td>\n",
       "      <td>senyam08</td>\n",
       "      <td>2023-09-21 13:31:50.352000+00:00</td>\n",
       "      <td>3</td>\n",
       "      <td>1</td>\n",
       "      <td>&lt;p&gt;Thanks&lt;/p&gt;</td>\n",
       "      <td>Implement Async profiler with elastic APM</td>\n",
       "      <td>343495</td>\n",
       "    </tr>\n",
       "  </tbody>\n",
       "</table>\n",
       "</div>\n",
       "<p>26153 rows × 17 columns</p>"
      ],
      "text/plain": [
       "        category_name  duration  \\\n",
       "194038       Logstash      1014   \n",
       "194051         Kibana      1291   \n",
       "194052         Kibana      8562   \n",
       "194058           None      1827   \n",
       "194074       Logstash       281   \n",
       "...               ...       ...   \n",
       "343469  Elastic Agent        89   \n",
       "343471         Kibana       275   \n",
       "343472          Beats       281   \n",
       "343478       Logstash        16   \n",
       "343495            APM       727   \n",
       "\n",
       "                                        question.author.avatar_template  \\\n",
       "194038  /user_avatar/discuss.elastic.co/manal_sadgal/{size}/51763_2.png   \n",
       "194051         /user_avatar/discuss.elastic.co/dougr/{size}/48095_2.png   \n",
       "194052  https://avatars.discourse-cdn.com/v4/letter/b/f08c70/{size}.png   \n",
       "194058        /user_avatar/discuss.elastic.co/badger/{size}/25190_2.png   \n",
       "194074         /user_avatar/discuss.elastic.co/leeyu/{size}/48561_2.png   \n",
       "...                                                                 ...   \n",
       "343469  https://avatars.discourse-cdn.com/v4/letter/r/51bf81/{size}.png   \n",
       "343471  https://avatars.discourse-cdn.com/v4/letter/e/c5a1d2/{size}.png   \n",
       "343472      /user_avatar/discuss.elastic.co/krische/{size}/112302_2.png   \n",
       "343478  https://avatars.discourse-cdn.com/v4/letter/m/e0b2c6/{size}.png   \n",
       "343495     /user_avatar/discuss.elastic.co/senyam08/{size}/106230_2.png   \n",
       "\n",
       "       question.author.name question.author.username  \\\n",
       "194038         Manal Sadgal             Manal_Sadgal   \n",
       "194051                DougR                    DougR   \n",
       "194052                                     ben.sharp   \n",
       "194058                                        Badger   \n",
       "194074                                         leeyu   \n",
       "...                     ...                      ...   \n",
       "343469          Rachel Yang               rachelyang   \n",
       "343471                                    emmanuel_t   \n",
       "343472                                       krische   \n",
       "343478                                        mikec1   \n",
       "343495   Senthilkumar rasan                 senyam08   \n",
       "\n",
       "                          question.date  question.reads  \\\n",
       "194038 2019-08-06 14:48:36.345000+00:00               5   \n",
       "194051 2019-08-06 16:04:21.724000+00:00              16   \n",
       "194052 2019-08-06 16:09:05.638000+00:00              30   \n",
       "194058 2019-08-06 16:41:52.004000+00:00             102   \n",
       "194074 2019-08-06 17:51:54.408000+00:00              36   \n",
       "...                                 ...             ...   \n",
       "343469 2023-09-20 14:35:11.214000+00:00               5   \n",
       "343471 2023-09-20 14:49:21.600000+00:00               5   \n",
       "343472 2023-09-20 15:12:50.580000+00:00               7   \n",
       "343478 2023-09-20 16:37:50.130000+00:00               4   \n",
       "343495 2023-09-21 01:24:30.282000+00:00               3   \n",
       "\n",
       "                                                                                                                                                                                                                                                                                                                                                                                                                                                                                                                                                                                                                                                                                                                                                                                                                                                                                                                                                                                                                                                                                                                                                                                                                                                                                                                                                                                                                                                                                                                                                                                                                                                                                                                                                                                                                                                                                                                                                                                                                                                                                                                                                                                                                                                                                                                                                                                                                                                                                                                                                                                                                                                                                                                                                                                                                                                                                                                                                                                                                                                                                                                                                                                                                                                                                                                                                                                                                                                                                                                                                                                                                                                                                                                                                                                                                                                                                                                                                                                                                                                                                                                                                                                                                                                                                                                                                                                                                                                                                                                                                                                                                                                                                                                                                                                                                                                                                                                                                                                                                                                                                                                                                                                                                                                                                                                                                      question.text  \\\n",
       "194038                                                                                                                                                                                                                                                                                                                                                                                                                                                                                                                                                                                                                                                                                                                                                                                                                                                                                                                                                                                                                                                                                                                                                                                                                                                                                                                                                                                                                                                                                                                                                                                                                                                                                                                                                                                                                                                                                                                                                                                                                                                                                                                                                                                                                                                                                                                                                                                                                                                                                                                                                                                                                                                                                                                                                                                                                                                                                                                                                                                                                                                                                                                                                                                                                                                                                                                                                                                                                                                                                                                                                                                                                                                                                                                                                                                                                                                                                                                                                                                                                                                                                                                                                                                                                                                                                                                                                                   <p>Hello,<br>\\nI have a problem with my filter, i get the \"_grokparsefailure\" tag when the concerned logs are processed.<br>\\nHere is my filter file:<br>\\nfilter {<br>\\nif [source] == \"/var/log/auth.log\"{<br>\\ngrok {<br>\\nmatch =&gt;  [ \"message\", \"%{SYSLOGTIMESTAMP:date} %{SYSLOGHOST:host} %{DATA:program}(?:[%{POSINT:pid}])?: %{GREEDYDATA:smt}: %{GREEDYDATA:smt2} for user %{USER:user}\" ]<br>\\nadd_field =&gt; [ \"received_at\", \"%{<span class=\"mention\">@timestamp</span>}\" ]<br>\\nadd_field =&gt; [ \"received_from\", \"%{host}\" ]<br>\\n}<br>\\ndate {<br>\\nmatch =&gt;  [ \"date\", \"MMM d HH:mm:ss\", \"MMM dd HH:mm:ss\" ]<br>\\n}<br>\\n}<br>\\n}<br>\\nI tried it with the input: \"Aug  6 12:17:01 stack CRON[14336]: pam_unix(cron:session): session closed for user root\" on  <a href=\"http://grokdebug.herokuapp.com/\" rel=\"nofollow noopener\">http://grokdebug.herokuapp.com/</a>  and it works fine.<br>\\nIs there any problem with my code ?<br>\\nThank you,<br>\\nManal</p>   \n",
       "194051                                                                                                                                                                                                                                                                                                                                                                                                                                                                                                                                                                                                                                                                                                                                                                                                                                                                                                                                                                                                                                                                                                                                                                                                                                                                                                                                                                                                                                                                                                                                                                                                                                                                                                                                                                                                                                                                                                                                                                                                                                                                                                                                                                                                                                                                                                                                                                                                                                                                                                                                                                                                                                                                                                                                                                                                                                                                                                                                                                                                                                                                                                                                                                                                                                                                                                                                                                                                                                                                                                                                                                                                                                                         <h1>TL;DR</h1>\\n<p>How do I continuously update an alias to capture new matching index patterns?</p>\\n<h1>Longer Version...</h1>\\n<p>We use a non-standard format that looks like this:</p>\\n<pre><code>myapp-beatname-version-YYYY.mm.dd\\n</code></pre>\\n<p>I.e., a <code>heartbeat</code> index will look like:</p>\\n<pre><code>myapp-heartbeat-7.2.0-2019.08.06\\n</code></pre>\\n<p>When using the Uptime module, the <a href=\"https://www.elastic.co/guide/en/uptime/current/install-heartbeat.html\" rel=\"nofollow noopener\">heartbeat documentation</a> notes that the Uptime module matches the index pattern <code>heartbeat-7*</code> and suggests using an alias if the index format doesn't match that. However, the alias documentation makes it clear that the following alias specification:</p>\\n<pre><code>{\\n    \"actions\" : [\\n        { \"add\" : { \"index\" : \"*-heartbeat-*\", \"alias\" : \"heartbeat-7.x.x\" } }\\n    ]\\n}\\n</code></pre>\\n<p>However, the <a href=\"https://www.elastic.co/guide/en/elasticsearch/reference/current/indices-aliases.html\" rel=\"nofollow noopener\">index alias documentation</a> states that:</p>\\n<blockquote>\\n<p>In this case, the alias is a point-in-time alias that will group all current indices that match, it will not automatically update as new indices that match this pattern are added/removed.</p>\\n</blockquote>\\n<p>Obviously, this does not work well with the Uptime module, where the alias must continuously update and capture newly-created aliases.</p>\\n<p>I'm certain there is a way around this, but I'm still enough of a novice in the ELK stack that I don't see it and haven't been able to find it in my searches.</p>   \n",
       "194052                                                                                                                                                                                                                                                                                                                                                                                                                                                                                                                                                                                                                                                                                                                                                                                                                                                                                                                                                                                                                                                                                                                                                                                                                                                                                                                                                                                                                                                                                                                                                                                                                                                                                                                                                                                                                                                                                                                                                                                                                                                                                                                                                                                                                                                                                                                                                                                                                                                                                                                                                                                                                                                                                                                                                                                                                                                                                                                                                                                                                                                                                                                                                                                                                                                                                                                                                                                                                                                                                                                                                                                                                                                                                                                                                                                                                                                                                                                                                                                                                                                                                                                                                                                                                                                                                                                                                                                                                                                                                                                                                               <p>Hi there,</p>\\n<p>I am attempting to stream logs from AWS Lambda into Elasticsearch/Kibana.</p>\\n<p>I am doing so via a POST to the Elasticsearch endpoint, + the index and document type (e.g. POST <a href=\"https://example-es-domain.com/alblogs/alb-access-logs/\" rel=\"nofollow noopener\">https://example-es-domain.com/alblogs/alb-access-logs/</a>).</p>\\n<p>I have verified that the lambda is sending out the request by sending to requestbin, and have verified that the information contained in each doc is correct.</p>\\n<p>However I can't see any of the information sent to Elasticsearch being loaded into Kibana, and was wondering if I was missing something.</p>\\n<p>The full flow for the operation is:</p>\\n<p>ALB -&gt; S3 -&gt; AWS Lambda -&gt; Elasticsearch</p>   \n",
       "194058                                                                                                                                                                                                                                                                                                                                                                                                                                                                                                                                                                                                                                                                                                                                                                                                                                                                                                                                                                                                                                                                                                                                                                                                                                                                                                                                                                                                                                                                                                                                                                                                                                                                                                                                                                                                                                                                                                                                                                                                                                                                                                                                                                                                                                                                                                                                                                                                                                                                                                                                                                                                                                                                                                                                                                                                                                                                                                                                                                                                                                                                                                                                                                                                                                                                                                                                                                                                                                                                                                                                                                                                                                                                                                                                                                                                                                                                                                                                                                                                                                                                                                                                                                                                                                                                                                                                                                                                                                                                                                                                                                                                                                                                                                                                                                                                                                                                                                                                             <ol>\\n<li>\\n<p>There is no pipeline plugin. Unlike other inputs it is implemented in the logstash core.</p>\\n</li>\\n<li>\\n<p>Yes, you can keep using files, no need to use config.string. config.string is simpler to use in the documentation.</p>\\n</li>\\n<li>\\n<p>No, weblogs is not the pipeline id, it is the virtual address of the pipeline input. The pipeline can be called anything.</p>\\n</li>\\n</ol>   \n",
       "194074                                                                                                                                                                                                                                                                                                                                                                                                                                                                                                                                                                                                                                                                                                                                             <p>Hi all,</p>\\n<p>I am using version 7.2.</p>\\n<p>I encountered some trouble while using the filter elasticsearch plugin.</p>\\n<p>The behavior is very random, some of the data uploaded correctly but I also get some error</p>\\n<p>Here is the log from logstash</p>\\n<blockquote>\\n<p>[2019-08-06T10:07:02,177][WARN ][logstash.filters.elasticsearch] Failed to query elasticsearch for previous event {:index=&gt;\"mapping_device_sn\", :error=&gt;\"[400] {\"error\":{\"root_cause\":[{\"type\":\"query_shard_exception\",\"reason\":\"Failed to parse query [sn:%{[device_sn]}]\",\"index_uuid\":\"vnxHfJgsRz6f4KIne-zZrA\",\"index\":\"mapping_device_sn\"}],\"type\":\"search_phase_execution_exception\",\"reason\":\"all shards failed\",\"phase\":\"query\",\"grouped\":true,\"failed_shards\":[{\"shard\":0,\"index\":\"mapping_device_sn\",\"node\":\"kuAYIY0yTlCZM7Du464gYg\",\"reason\":{\"type\":\"query_shard_exception\",\"reason\":\"Failed to parse query [sn:%{[device_sn]}]\",\"index_uuid\":\"vnxHfJgsRz6f4KIne-zZrA\",\"index\":\"mapping_device_sn\",\"caused_by\":{\"type\":\"parse_exception\",\"reason\":\"Cannot parse 'sn:%{[device_sn]}': Encountered \\\" \\\"]\\\" \\\"] \\\"\\\" at line 1, column 15.\\nWas expecting:\\n    \\\"TO\\\" ...\\n    \",\"caused_by\":{\"type\":\"parse_exception\",\"reason\":\"Encountered \\\" \\\"]\\\" \\\"] \\\"\\\" at line 1, column 15.\\nWas expecting:\\n    \\\"TO\\\" ...\\n    \"}}}}]},\"status\":400}\"}</p>\\n</blockquote>\\n<p>Log from elasticsearch</p>\\n<pre><code>[elasticsearch.server][DEBUG] All shards failed for phase: [query]\\n\\n[elasticsearch.server][DEBUG] [0], node[kuAYIY0yTlCZM7Du464gYg], [P], s[STARTED], a[id=NKeTm6rjTgCj_zwuFPyacA]: Failed to execute [SearchRequest{searchType=QUERY_THEN_FETCH, indices=[mapping_device_sn], indicesOptions=IndicesOptions[ignore_unavailable=false, allow_no_indices=true, expand_wildcards_open=true, expand_wildcards_closed=false, allow_aliases_to_multiple_indices=true, forbid_closed_indices=true, ignore_aliases=false, ignore_throttled=true], types=[], routing='null', preference='null', requestCache=null, scroll=null, maxConcurrentShardRequests=0, batchedReduceSize=512, preFilterShardSize=128, allowPartialSearchResults=true, localClusterAlias=null, getOrCreateAbsoluteStartMillis=-1, ccsMinimizeRoundtrips=true, source={\"size\":1,\"query\":{\"query_string\":{\"query\":\"sn:%{[device_sn]}\",\"fields\":[],\"type\":\"best_fields\",\"default_operator\":\"or\",\"max_determinized_states\":10000,\"enable_position_increments\":true,\"fuzziness\":\"AUTO\",\"fuzzy_prefix_length\":0,\"fuzzy_max_expansions\":50,\"phrase_slop\":0,\"analyze_wildcard\":false,\"escape\":false,\"auto_generate_synonyms_phrase_query\":true,\"fuzzy_transpositions\":true,\"boost\":1.0}},\"sort\":[{\"@timestamp\":{\"order\":\"desc\"}}]}}]\\n</code></pre>\\n<p>My logstash config</p>\\n<pre><code>input {\\n    file {\\n        path =&gt; \"/data/ELK_raw/IPS/data/*/ips_aggregate.csv\"\\n        sincedb_path =&gt; \"/dev/null\"\\n        mode =&gt; \"read\"\\n        file_completed_action =&gt; \"log\"\\n        file_completed_log_path =&gt; \"/data/ELK/read_log/ips_read_log.txt\"\\n        type =&gt; \"ips\"\\n    }\\n}\\n\\nfilter {\\n    csv {\\n        autodetect_column_names =&gt; \"true\"\\n        autogenerate_column_names =&gt; \"true\"\\n        skip_header =&gt; \"true\"\\n        separator =&gt; \",\"\\n    }\\nelasticsearch {\\n        hosts =&gt; [\"localhost:9200\"]\\n        index =&gt; \"mapping_ips\"\\n        query =&gt; \"id:%{[id]}\"\\n        result_size =&gt; 1\\n        fields =&gt; {\\n            \" signature_name\" =&gt; \"signature_name\"\\n            \" engine_rule\" =&gt; \"engine_rule\"\\n        }\\n    }\\n\\n   elasticsearch {\\n        hosts =&gt; [\"localhost:9200\"]\\n        index =&gt; \"mapping_device_sn\"\\n        query =&gt; \"sn:%{[device_sn]}\"\\n        result_size =&gt; 1\\n        fields =&gt; {\\n            \"first_industry\" =&gt; \"first_industry\"\\n            \"customer\" =&gt; \"customer\"\\n            \"is_trial\" =&gt; \"is_trial\"\\n            \"product_type\" =&gt; \"product_type\"\\n            \"second_industry\" =&gt; \"second_industry\"\\n            \"warranty_date\" =&gt; \"warranty_date\"\\n        }\\n    }\\n\\n   mutate {\\n        remove_field =&gt; [ \"@timestamp\" ]\\n        remove_field =&gt; [ \"@version\" ]\\n        remove_field =&gt; [ \"host\" ]\\n        remove_field =&gt; [ \"message\" ]\\n        remove_field =&gt; [ \"path\" ] \\n        remove_field =&gt; [ \"type\" ] \\n    }   \\n}\\n\\noutput {\\n    elasticsearch {\\n        hosts =&gt; [\"localhost:9200\"]\\n        index =&gt; \"cv_ips\"\\n    }\\n}\\n</code></pre>\\n<p>Have anyone encountered this before?</p>\\n<p>Thanks</p>   \n",
       "...                                                                                                                                                                                                                                                                                                                                                                                                                                                                                                                                                                                                                                                                                                                                                                                                                                                                                                                                                                                                                                                                                                                                                                                                                                                                                                                                                                                                                                                                                                                                                                                                                                                                                                                                                                                                                                                                                                                                                                                                                                                                                                                                                                                                                                                                                                                                                                                                                                                                                                                                                                                                                                                                                                                                                                                                                                                                                                                                                                                                                                                                                                                                                                                                                                                                                                                                                                                                                                                                                                                                                                                                                                                                                                                                                                                                                                                                                                                                                                                                                                                                                                                                                                                                                                                                                                                                                                                                                                                                                                                                                                                                                                                                                                                                                                                                                                                                                                                                                                                                                                                                                                                                                                                                                                                                                                                                                             ...   \n",
       "343469  <p>Hi,<br>\\nI want to integrate the AWS logs into my Kibana Observability log stream.<br>\\nHere is the access policy of SQS queue:</p>\\n<pre><code class=\"lang-auto\">{\\n  \"Version\": \"2012-10-17\",\\n  \"Id\": \"arn:aws:sqs:us-east-1:334811116626:ingest-ec2-logs-sqs/SQSDefaultPolicy\",\\n  \"Statement\": [\\n    {\\n      \"Sid\": \"Sid334811116626\",\\n      \"Effect\": \"Allow\",\\n      \"Principal\": {\\n        \"Service\": \"s3.amazonaws.com\"\\n      },\\n      \"Action\": [\\n        \"sqs:SendMessage\",\\n        \"sqs:ReceiveMessage\"\\n      ],\\n      \"Resource\": \"arn:aws:sqs:us-east-1:334811116626:ingest-ec2-logs-sqs\"\\n    }\\n  ]\\n}\\n</code></pre>\\n<p>I set the SQS queue as the S3 event notification destination. Here is the S3 bucket event notification setting:<br>\\n<div class=\"lightbox-wrapper\"><a class=\"lightbox\" href=\"https://global.discourse-cdn.com/elastic/original/3X/1/3/138c7c1d4a74326ad23bfd8d763d60464fa1caff.png\" data-download-href=\"/uploads/short-url/2MW3FSpXSqxXFs8eScfy8IG3mHR.png?dl=1\" title=\"image\" rel=\"noopener nofollow ugc\"><img src=\"https://global.discourse-cdn.com/elastic/optimized/3X/1/3/138c7c1d4a74326ad23bfd8d763d60464fa1caff_2_690x264.png\" alt=\"image\" data-base62-sha1=\"2MW3FSpXSqxXFs8eScfy8IG3mHR\" width=\"690\" height=\"264\" srcset=\"https://global.discourse-cdn.com/elastic/optimized/3X/1/3/138c7c1d4a74326ad23bfd8d763d60464fa1caff_2_690x264.png, https://global.discourse-cdn.com/elastic/optimized/3X/1/3/138c7c1d4a74326ad23bfd8d763d60464fa1caff_2_1035x396.png 1.5x, https://global.discourse-cdn.com/elastic/optimized/3X/1/3/138c7c1d4a74326ad23bfd8d763d60464fa1caff_2_1380x528.png 2x\" data-dominant-color=\"F4F5F5\"><div class=\"meta\"><svg class=\"fa d-icon d-icon-far-image svg-icon\" aria-hidden=\"true\"><use href=\"#far-image\"></use></svg><span class=\"filename\">image</span><span class=\"informations\">2853×1094 234 KB</span><svg class=\"fa d-icon d-icon-discourse-expand svg-icon\" aria-hidden=\"true\"><use href=\"#discourse-expand\"></use></svg></div></a></div><br>\\nI also configured integration in Kibana. I entered the SQS queue URL under the \"Collect EC2 logs from S3\" category.<br>\\n<div class=\"lightbox-wrapper\"><a class=\"lightbox\" href=\"https://global.discourse-cdn.com/elastic/original/3X/5/9/594b7c3dbad0128ad3525624f386e6d8a617e410.png\" data-download-href=\"/uploads/short-url/cJWdJ7xdnk7xcjrVOcQWfEurRyU.png?dl=1\" title=\"image\" rel=\"noopener nofollow ugc\"><img src=\"https://global.discourse-cdn.com/elastic/optimized/3X/5/9/594b7c3dbad0128ad3525624f386e6d8a617e410_2_690x242.png\" alt=\"image\" data-base62-sha1=\"cJWdJ7xdnk7xcjrVOcQWfEurRyU\" width=\"690\" height=\"242\" srcset=\"https://global.discourse-cdn.com/elastic/optimized/3X/5/9/594b7c3dbad0128ad3525624f386e6d8a617e410_2_690x242.png, https://global.discourse-cdn.com/elastic/optimized/3X/5/9/594b7c3dbad0128ad3525624f386e6d8a617e410_2_1035x363.png 1.5x, https://global.discourse-cdn.com/elastic/optimized/3X/5/9/594b7c3dbad0128ad3525624f386e6d8a617e410_2_1380x484.png 2x\" data-dominant-color=\"F9F9FA\"><div class=\"meta\"><svg class=\"fa d-icon d-icon-far-image svg-icon\" aria-hidden=\"true\"><use href=\"#far-image\"></use></svg><span class=\"filename\">image</span><span class=\"informations\">2060×725 62.1 KB</span><svg class=\"fa d-icon d-icon-discourse-expand svg-icon\" aria-hidden=\"true\"><use href=\"#discourse-expand\"></use></svg></div></a></div><br>\\nI installed elastic agent on my elasticsearch server. The data stream in Kibana is empty. Here is the error in the elastic agent log:</p>\\n<pre><code class=\"lang-auto\">{\"log.level\":\"error\",\"@timestamp\":\"2023-09-20T13:57:02.888Z\",\"message\":\"failed to perform any bulk index operations: 500 Internal Server Error: {\\\"error\\\":{\\\"root_cause\\\":[{\\\"type\\\":\\\"illegal_state_exception\\\",\\\"reason\\\":\\\"There are no ingest nodes in this cluster, unable to forward request to an ingest node.\\\"}],\\\"type\\\":\\\"illegal_state_exception\\\",\\\"reason\\\":\\\"There are no ingest nodes in this cluster, unable to forward request to an ingest node.\\\"},\\\"status\\\":500}\",\"component\":{\"binary\":\"metricbeat\",\"dataset\":\"elastic_agent.metricbeat\",\"id\":\"http/metrics-monitoring\",\"type\":\"http/metrics\"},\"log\":{\"source\":\"http/metrics-monitoring\"},\"log.logger\":\"elasticsearch\",\"log.origin\":{\"file.line\":258,\"file.name\":\"elasticsearch/client.go\"},\"service.name\":\"metricbeat\",\"ecs.version\":\"1.6.0\",\"ecs.version\":\"1.6.0\"}\\n{\"log.level\":\"error\",\"@timestamp\":\"2023-09-20T13:57:02.979Z\",\"message\":\"failed to publish events: 500 Internal Server Error: {\\\"error\\\":{\\\"root_cause\\\":[{\\\"type\\\":\\\"illegal_state_exception\\\",\\\"reason\\\":\\\"There are no ingest nodes in this cluster, unable to forward request to an ingest node.\\\"}],\\\"type\\\":\\\"illegal_state_exception\\\",\\\"reason\\\":\\\"There are no ingest nodes in this cluster, unable to forward request to an ingest node.\\\"},\\\"status\\\":500}\",\"component\":{\"binary\":\"filebeat\",\"dataset\":\"elastic_agent.filebeat\",\"id\":\"filestream-monitoring\",\"type\":\"filestream\"},\"log\":{\"source\":\"filestream-monitoring\"},\"log.logger\":\"publisher_pipeline_output\",\"log.origin\":{\"file.line\":174,\"file.name\":\"pipeline/client_worker.go\"},\"service.name\":\"filebeat\",\"ecs.version\":\"1.6.0\",\"ecs.version\":\"1.6.0\"}\\n</code></pre>\\n<p>How can I fix this issue?<br>\\nThanks</p>   \n",
       "343471                                                                                                                                                                                                                                                                                                                                                                                                                                                                                                                                                                                                                                                                                                                                                                                                                                                                                                                                                                                                                                                                                                                                                                                                                                                                                                                                                                                                                                                                                                                                                                                                                                                                                                                                                                                                                                                                                                                                                                                                                                                                                                                                                                                                                                                                                                                                                                                                                                                                                                                                                                                                                                                                                                                                                                                                                                                                                                                                                                                                                                                                                                                                                                                                                                                                                                                                                                                                                                                                                                                                                                                                                                                                                                                                                                                                                                                                                                                                                                                                                                                                                                                                                                                                                                                                                                                                                                                                                                                                                                                                                                                                                                                                                                                                                                                                                                                                                                                                                 <p>I see that the saved objects API is deprecated, and that's a real bummer, the API was extremely useful for us. For most of our use cases we can probably get by using the import/export API as a worse (from our point of view) alternative, except at least for deletion.</p>\\n<p>How could we delete a dashboard, or any other saved object, using non-deprecated APIs? Thank you!</p>\\n<p>Emmanuel</p>   \n",
       "343472                                                                                                                                                                                                                                                                                                                                                                                                                                                                                                                                                                                                                                                                                                                                                                                                                                                                                                                                                                                                                                                                                                                                                                                                                                                                                                                                                                                                                                                                                                                                                                                                                                                                                                                                                                                                                                                                                                                                                                                                                                                                                                                                    <p>I have ECK setup and running on my kubernetes cluster. I followed the <a href=\"https://www.elastic.co/guide/en/cloud-on-k8s/current/k8s-beat-configuration-examples.html\">Configuration Examples</a> to setup filebeat ship all container logs to Elasticsearch. That is working fine.</p>\\n<p>However, now I am trying to parse the logs of my Nginx Ingress Controller using the nginx filebeat module so that I can better search the ingress logs. But I just can't seem to get it to work, no matter how many different examples I see online. This is what my Beat resource looks like:</p>\\n<pre><code class=\"lang-yaml\">apiVersion: beat.k8s.elastic.co/v1beta1\\nkind: Beat\\nmetadata:\\n  name: container-logs\\n  namespace: elasticsearch\\nspec:\\n  config:\\n    filebeat:\\n      autodiscover:\\n        providers:\\n          - hints:\\n              default_config:\\n                enabled: false\\n            node: ${NODE_NAME}\\n            templates:\\n              - config:\\n                  - paths:\\n                      - /var/log/containers/*${data.kubernetes.container.id}.log\\n                    type: container\\n              - condition:\\n                  equals:\\n                    kuberentes.container.name: controller\\n                config:\\n                  - ingress_controller:\\n                      enabled: true\\n                      vars:\\n                        paths:\\n                          - /var/log/containers/*${data.kubernetes.container.id}.log\\n                    module: nginx\\n            type: kubernetes\\n    processors:\\n      - add_cloud_metadata: {}\\n      - add_host_metadata: {}\\n    setup:\\n      dashboards:\\n        enabled: false\\n  daemonSet:\\n    podTemplate:\\n      spec:\\n        automountServiceAccountToken: true\\n        containers:\\n          - env:\\n              - name: NODE_NAME\\n                valueFrom:\\n                  fieldRef:\\n                    fieldPath: spec.nodeName\\n            name: filebeat\\n            volumeMounts:\\n              - mountPath: /var/log/containers\\n                name: varlogcontainers\\n              - mountPath: /var/log/pods\\n                name: varlogpods\\n              - mountPath: /var/lib/docker/containers\\n                name: varlibdockercontainers\\n        dnsPolicy: ClusterFirstWithHostNet\\n        hostNetwork: true\\n        securityContext:\\n          runAsUser: 0\\n        serviceAccountName: filebeat\\n        volumes:\\n          - hostPath:\\n              path: /var/log/containers\\n            name: varlogcontainers\\n          - hostPath:\\n              path: /var/log/pods\\n            name: varlogpods\\n          - hostPath:\\n              path: /var/lib/docker/containers\\n            name: varlibdockercontainers\\n  elasticsearchRef:\\n    name: elasticsearch\\n  kibanaRef:\\n    name: kibana\\n  monitoring:\\n    logs: {}\\n    metrics:\\n      elasticsearchRefs:\\n        - name: elasticsearch\\n          namespace: elasticsearch\\n  type: filebeat\\n  version: 8.10.1\\n</code></pre>\\n<p>Has anyone else gotten this to work on their setup? I feel like I've tried everything.</p>   \n",
       "343478                                                                                                                                                                                                                                                                                                                                                                                                                                                                                                                                                                                                                                                                                                                                                                                                                                                                                                                                                                                                                                                                                                                                                                                                                                                                                                                                                                                                                                                                                                                                                                                                                                                                                                                                                                                                                                                                                                                                                                                                                                                                                                                                                                                                                                                                                                                                                                                                                                                                                                                                                                                                                                                                                                                                                                                                                                                                                                                                                                                                                                                                                                                                                                                                                                                                                                                                                                                                                                                                                                                                                                                                                                                                                                                                                                                                                                                                                                                                                            <p>I have a pipeline whereby the input section looks like this:</p>\\n<pre><code class=\"lang-auto\">input {\\n    elasticsearch {\\n        hosts =&gt; [\"elasticsearch.my.host.here:port\"]\\n        index =&gt; 'my_index_name_pattern'\\n        query =&gt; '{ \"query\": {  \"match_all\": {} } }'\\n    }\\n}\\n</code></pre>\\n<p>I have logstash running via docker and it's being orchestrated by Marathon/Mesos. I'm trying to add a \"schedule\" field to the input plugin section so that the container stays up and the pipeline just runs once a day. Otherwise, the container closes itself once the pipeline completes which then causes Marathon to endlessly attempt to redeploy it. From my understanding of the documentation, I thought that adding the following to the elasticsearch input section would be valid:</p>\\n<pre><code class=\"lang-auto\">schedule =&gt; \"0 0 0 * * ?\"\\n</code></pre>\\n<p>This should have the pipeline get triggered once a day, every day, at midnight. I verified via elasticsearch-croneval that elasticsearch deems this as a valid expression and will create the intended interval.</p>\\n<p>However, the stdout logs are complaining that this is an invalid cron expression that cannot be handled. Can someone point out where I'm going wrong here?</p>\\n<p>Note: I've already tried using '' instead of \"\", but nothing changed.</p>\\n<p>Thanks!</p>   \n",
       "343495                                                                                                                                                                                                                                                                                                                                                                                                                                                                                                                                                                                                                                                                                                                                                                                                                                                                                                                                                                                                                                                                                                                                                                                                                                                                                                                                                                                                                                                                                                                                                                                                                                                                                                                                                                                                                                                                                                                                                                                                                                                                                                                                                                                                                                                                                                                                                                                                                                                                                                                                                                                                                                                                                                                                                                                                                                                                                                                                                                                                                                                                                                                                                                                                                                                                                                                                                                                                                                                                                                                                                                                                                                                                                                                                                                                                                                                                                                                                                                                                                                                                                                                                                                                                                                                                                                                                                                                                                                                                                                                                                                                                                                                                                                                                                                     <p>Could you help with setting up async profiler to use with APM Java agent.</p>\\n<p>I have following properties added</p>\\n<pre><code class=\"lang-auto\">profiling_inferred_spans_enabled=true\\nprofiling_inferred_spans_sampling_interval=50ms\\nprofiling_inferred_spans_min_duration=150ms\\nprofiling_inferred_spans_logging_enabled=true\\n\\nDo i need to download asyncprofiler latest version and add it container with following? \\n\\nprofiling_inferred_spans_lib_directory=/opt/async-profiler-2.9-linux-x64/build/libasyncProfiler.so\\n</code></pre>\\n<p>Thanks<br>\\nSenthil</p>   \n",
       "\n",
       "                                            solution.author.avatar_template  \\\n",
       "194038      /user_avatar/discuss.elastic.co/manal_sadgal/{size}/51763_2.png   \n",
       "194051             /user_avatar/discuss.elastic.co/dougr/{size}/48095_2.png   \n",
       "194052              /user_avatar/discuss.elastic.co/matw/{size}/13913_2.png   \n",
       "194058      https://avatars.discourse-cdn.com/v4/letter/p/9d8465/{size}.png   \n",
       "194074            /user_avatar/discuss.elastic.co/badger/{size}/25190_2.png   \n",
       "...                                                                     ...   \n",
       "343469       /user_avatar/discuss.elastic.co/leandrojmp/{size}/107231_2.png   \n",
       "343471  /user_avatar/discuss.elastic.co/priscilla_parodi/{size}/43047_2.png   \n",
       "343472          /user_avatar/discuss.elastic.co/krische/{size}/112302_2.png   \n",
       "343478       /user_avatar/discuss.elastic.co/leandrojmp/{size}/107231_2.png   \n",
       "343495         /user_avatar/discuss.elastic.co/senyam08/{size}/106230_2.png   \n",
       "\n",
       "       solution.author.name solution.author.username  \\\n",
       "194038         Manal Sadgal             Manal_Sadgal   \n",
       "194051                DougR                    DougR   \n",
       "194052     Matthias Wilhelm                     matw   \n",
       "194058                 Andy          penguinairlines   \n",
       "194074                                        Badger   \n",
       "...                     ...                      ...   \n",
       "343469      Leandro Pereira               leandrojmp   \n",
       "343471     Priscilla Parodi         Priscilla_Parodi   \n",
       "343472                                       krische   \n",
       "343478      Leandro Pereira               leandrojmp   \n",
       "343495   Senthilkumar rasan                 senyam08   \n",
       "\n",
       "                          solution.date  solution.post_number  solution.reads  \\\n",
       "194038 2019-08-07 07:42:22.016000+00:00                     3               5   \n",
       "194051 2019-08-07 13:35:33.476000+00:00                     4              12   \n",
       "194052 2019-08-12 14:51:28.673000+00:00                    16              11   \n",
       "194058 2019-08-07 23:08:41.522000+00:00                    21              48   \n",
       "194074 2019-08-06 22:32:24.947000+00:00                     7              21   \n",
       "...                                 ...                   ...             ...   \n",
       "343469 2023-09-20 16:04:35.452000+00:00                     4               2   \n",
       "343471 2023-09-20 19:24:16.162000+00:00                     2               4   \n",
       "343472 2023-09-20 19:54:06.290000+00:00                     3               5   \n",
       "343478 2023-09-20 16:54:12.050000+00:00                     2               4   \n",
       "343495 2023-09-21 13:31:50.352000+00:00                     3               1   \n",
       "\n",
       "                                                                                                                                                                                                                                                                                                                                                                                                                                                                                                                                                                                                                                                                                                                                                                                                                                                                                                                                                                                                                                                                                                                                                                                                                                                                                                                                                                                                                                                                                                                                                                                                                                                                                                                                                                                                                                                                                                                                                                                                                                                                                                                                                                                                                                                                                                                                                                                                                                                                                                                                                                                                                                                                                                                                                                                                                                                                                                                                                                                                                                                                                                                               solution.text  \\\n",
       "194038                                                                                                                                                                                                                                                                                                                                                                                                                                                                                                                                                                                                                                                                                                                                                                                                                                                                                                                                                                                                                                                                                                                                                                                                                                                                                                                                                                                                                                                                                                                                                                                                                                                                                                                                                                                                                                                                                                                                                                                                                                                                                                                                                                                                                                                                                                                                                                                                                                                                                                                                                                                                                                                                                                                                                                                                                                                                                                                                                                                                                                                    <p>A space was missing , that's why it wasn't working. I fixed it. Thank you !</p>   \n",
       "194051                                                                                                                                                                                                                                                                                                                                                                                                                                                                                                                                                                                                                                                                                                                                                                                                                                                                                                                                                                                                                                                                                                                                                                                                                                                                                                                                                                                                                                                                                                                                                                                                                                                                                                                                                                                                                                                                                                                                                                                                                                                                                                                                                                                                                                                                                                                                                                                                                                                                                                                                                                                                                                                      <p>My workaround for this was to add the following to the template:</p>\\n<pre><code>\"aliases\": {\\n  \"heartbeat-7.3.0-alias\": {}\\n},\\n</code></pre>\\n<p>This has resolved the issue. I already use a script to upload templates to Elasticsearch. This script also edits the templates on the fly to add an additional index pattern match in order to apply it to our alternate index-name convention, so I should be able to update it to add the alias on the fly as well.</p>   \n",
       "194052                                                                                                                                                                                                                                                                                                                                                                                                                                                                                                                                                                                                                                                                                                                                                                                                                                                                                                                                                                                                                                                                                                                                                                                                                                                                                                                                                                                                                                                                                                                                                                                                                                                                                                                                                                                                                                                                                                                                                                                                                                                                                                                                                                                                                                                                                                                                                                                                        <p>Please try the following, tested locally in 6.8, I've used you index + type naming, which is in your case identical.</p>\\n<p>PUT a pattern for you index</p>\\n<pre><code>PUT alb-access-logs\\n{\\n  \"mappings\": {\\n    \"alb-access-logs\": {\\n      \"properties\": {\\n        \"timestamp\": {\\n          \"type\": \"date\"\\n        }\\n      }\\n    }\\n  }\\n}\\n</code></pre>\\n<p>POST an example</p>\\n<pre><code>POST alb-access-logs/alb-access-logs\\n {\\n    \"timestamp\": \"2019-08-06T15:54:46.701974Z\"\\n }\\n</code></pre>\\n<p>Let's check the results:</p>\\n<pre><code> GET alb-access-logs/_search \\n{\\n  \"sort\" : [\\n      {\"timestamp\" : {\"order\" : \"asc\", \"mode\" : \"avg\"}}\\n   ]\\n}\\n</code></pre>\\n<p>this should work</p>   \n",
       "194058  <p>Okay. I have solved the pipeline virtual address problem. The name cannot contain <code>-</code> character, so renaming it to \"legacyva\" resolved my problem.</p>\\n<p>There is some weirdness with yaml that I don't quite understand. As you have described, putting quotes around the [type] variable causes the pipeline to fail to load. Also, setting the type in filebeat to anything other than <code>log</code> causes filebeat to be unable to start. I'm thinking it may be expecting certain inputs, but in any case I cannot seem to name this what I want, with or without quotes.</p>\\n<p>So I really need \"tags\" or some other construct in order to perform the loop properly, and I must put quotes and must not put dashes. I am concerned that using \"tags\" affects the logic, as I am only looking for a single flag match, and == I believe means matches exactly. I'll keep testing to see if I can work out this last piece.</p>\\n<p>edit&gt; Did some searching on \"logstash tags conditionals\" and found that the syntax is different. Not sure where this is documented but I copied a gentleman's <a href=\"https://discuss.elastic.co/t/logstash-filter-conditional-if-tags-or/102479\">example</a> and changed from <code>if [tags] == \"tagname\"</code> to <code>if \"tagname\" in [tags]</code>. I do feel better about this, even if I don't understand it, as that == was really bothering me since it needed to be more of a \"contains\" rather than \"is equal to\" (if I'm remembering things correctly). Anyways, glad I learned something, and now my conditional statement is catching my file based on a tag! HOORAY!</p>\\n<p>Big thanks to <a class=\"mention\" href=\"/u/badger\">@Badger</a>, I kept trying to drive off the course and you definitely got me back on path more than once!</p>\\n<p>For anyone else who is trying to do specifically this thing in the future, that is to say <strong>ship many different files with filebeat to a single logstash listener, then separate the pipelines by some pre-defined value so that many filters can be used and some modularity is provided for the index choice</strong>, here is the base template you need for your pipeline.conf files:</p>\\n<pre><code>master-pipeline.conf\\ninput {\\n  beats {\\n    port =&gt; \"5000\"\\n  }\\n}\\noutput {\\n### conditional statement to separate logs by tag ###\\n  if \"primary\" in [tags] {\\n    pipeline { send_to =&gt; primaryvirtualaddress }\\n  } else {\\n    pipeline { send_to =&gt; fallbackvirtualaddress }\\n  }\\n}\\n</code></pre>\\n<p>each subsequent pipeline:</p>\\n<pre><code>primary-pipeline.conf\\ninput {\\n  pipeline {\\n    address =&gt; \"primaryvirtualaddress\"\\n  }\\n}\\noutput {\\n  elasticsearch {\\n    hosts =&gt; [\"ES CLUSTER ADDRESS\"]\\n    index =&gt; \"primary_index\"\\n  }\\n}\\n</code></pre>\\n<p>You may be able to remove the quotes from the address, but I'm quite sick of re-testing at this point and I know this template works <img src=\"https://emoji.discourse-cdn.com/twitter/slight_smile.png?v=9\" title=\":slight_smile:\" class=\"emoji\" alt=\":slight_smile:\"></p>   \n",
       "194074                                                                                                                                                                                                                                                                                                                                                                                                                                                                                                                                                                                                                                                                                                                                                                                                                                                                                                                                                                                                                                                                                                                                                                                                                                                                                                                                                                                                                                                                                                                                                                                                                                                                                                                                                                                                                                                                                                                                                                                                                                                                                                                                                                                                                                                                                                                                                                                                                                                                                                                                                                                                                                                                                                                                                                                                                                                                                                                                                                                                <p>Can you do the 'grep -rn ...' and verify that the line number is always 1?</p>\\n<p>You do have --pipeline.workers 1 set, right?</p>   \n",
       "...                                                                                                                                                                                                                                                                                                                                                                                                                                                                                                                                                                                                                                                                                                                                                                                                                                                                                                                                                                                                                                                                                                                                                                                                                                                                                                                                                                                                                                                                                                                                                                                                                                                                                                                                                                                                                                                                                                                                                                                                                                                                                                                                                                                                                                                                                                                                                                                                                                                                                                                                                                                                                                                                                                                                                                                                                                                                                                                                                                                                                                                                                                                                      ...   \n",
       "343469                                                                                                                                                                                                                                                                                                                                                                                                                                                                                                                                                                                                                                                                                                                                                                                                                                                                                                                                                                                                                                                                                                                                                                                                                                                                                                                                                                                                                                                                                                                                                                                                                                                                                                                                                                                                                                                                                                                                                                                                                                                                                                                                                                                                         <aside class=\"quote no-group\" data-username=\"rachelyang\" data-post=\"3\" data-topic=\"343469\">\\n<div class=\"title\">\\n<div class=\"quote-controls\"></div>\\n<img loading=\"lazy\" alt=\"\" width=\"24\" height=\"24\" src=\"https://avatars.discourse-cdn.com/v4/letter/r/51bf81/48.png\" class=\"avatar\"> rachelyang:</div>\\n<blockquote>\\n<p>10.0.9.12 46 96 2 1.51 2.36 1.93 dm * cvelk5<br>\\n10.0.9.13 6 97 2 0.81 2.25 1.98 dm - cvelk6</p>\\n</blockquote>\\n</aside>\\n<p>Yeah, none of the nodes has the <code>ingest</code> role, you will need to add the <code>ingest</code> role as a role for at least one of the nodes in <code>elasticsearch.yml</code> and restart the node.</p>\\n<p>A node with the ingest role is required for the integrations to work.</p>\\n<p>You can check here for the <a href=\"https://www.elastic.co/guide/en/elasticsearch/reference/current/modules-node.html\">documentation about node roles</a>.</p>   \n",
       "343471                                                                                                                                                                                                                                                                                                                                                                                                                                                                                                                                                                                                                                                                                                                                                                                                                                                                                                                                                                                                                                                                                                                                                                                                                                                                                                                                                                                                                                                                                                                                                                                                                                                                                                                                                                                                                                                                                                                                                                                                                                                                                                                                                                                                                                                                                                                                                                                                                                                                                                                                                                                                                                                                                                                                                                                                                                                                 <p>Hello <a class=\"mention\" href=\"/u/emmanuel_t\">@emmanuel_t</a>,</p>\\n<p>This API should still work. Deprecated shouldn't mean that it isn't working. Those won't be removed before there's alternative APIs to use for at least the most commonly used objects.</p>   \n",
       "343472                                                                                                                               <p>It looks like part of my issue was a typo in the condition, I had \"kuber<strong>en</strong>tes\" instead of \"kuber<strong>ne</strong>tes\".</p>\\n<p>And I don't know if it was necessary, but I also overrode some of the input stuff. So this is what ended up working for me:</p>\\n<pre><code class=\"lang-yaml\">apiVersion: beat.k8s.elastic.co/v1beta1\\nkind: Beat\\nmetadata:\\n  name: container-logs\\n  namespace: elasticsearch\\nspec:\\n  config:\\n    filebeat:\\n      autodiscover:\\n        providers:\\n          - hints:\\n              default_config:\\n                enabled: false\\n            node: ${NODE_NAME}\\n            templates:\\n              - config:\\n                  - paths:\\n                      - /var/log/containers/*${data.kubernetes.container.id}.log\\n                    type: container\\n              - condition:\\n                  equals:\\n                    kubernetes.container.name: controller\\n                config:\\n                  - ingress_controller:\\n                      enabled: true\\n                      input:\\n                        paths:\\n                          - /var/log/containers/*${data.kubernetes.container.id}.log\\n                        type: container\\n                      vars:\\n                        paths:\\n                          - /var/log/containers/*${data.kubernetes.container.id}.log\\n                    module: nginx\\n            type: kubernetes\\n    processors:\\n      - add_cloud_metadata: {}\\n      - add_host_metadata: {}\\n    setup:\\n      dashboards:\\n        enabled: false\\n  daemonSet:\\n    podTemplate:\\n      spec:\\n        automountServiceAccountToken: true\\n        containers:\\n          - env:\\n              - name: NODE_NAME\\n                valueFrom:\\n                  fieldRef:\\n                    fieldPath: spec.nodeName\\n            name: filebeat\\n            volumeMounts:\\n              - mountPath: /var/log/containers\\n                name: varlogcontainers\\n              - mountPath: /var/log/pods\\n                name: varlogpods\\n              - mountPath: /var/lib/docker/containers\\n                name: varlibdockercontainers\\n        dnsPolicy: ClusterFirstWithHostNet\\n        hostNetwork: true\\n        securityContext:\\n          runAsUser: 0\\n        serviceAccountName: filebeat\\n        volumes:\\n          - hostPath:\\n              path: /var/log/containers\\n            name: varlogcontainers\\n          - hostPath:\\n              path: /var/log/pods\\n            name: varlogpods\\n          - hostPath:\\n              path: /var/lib/docker/containers\\n            name: varlibdockercontainers\\n  elasticsearchRef:\\n    name: elasticsearch\\n  kibanaRef:\\n    name: kibana\\n  monitoring:\\n    logs: {}\\n    metrics:\\n      elasticsearchRefs:\\n        - name: elasticsearch\\n          namespace: elasticsearch\\n  type: filebeat\\n  version: 8.10.1\\n</code></pre>   \n",
       "343478                                                                                                                                                                                                                                                                                                                                                                                                                                                                                                                                                                                                                                                                                                                                                                                                                                                                                                                                                                                                                                                                                                                                                                                                                                                                                                                                                                                                                                                                                                                                                                                                                                                                                                                                                                                                                                                                                                                                                                                                                                                                                                                                                                                     <aside class=\"quote no-group\" data-username=\"mikec1\" data-post=\"1\" data-topic=\"343478\">\\n<div class=\"title\">\\n<div class=\"quote-controls\"></div>\\n<img loading=\"lazy\" alt=\"\" width=\"24\" height=\"24\" src=\"https://avatars.discourse-cdn.com/v4/letter/m/e0b2c6/48.png\" class=\"avatar\"> mikec1:</div>\\n<blockquote>\\n<p><code>schedule =&gt; \"0 0 0 * * ?\"</code></p>\\n</blockquote>\\n</aside>\\n<p>I don't think this is valid, the third column represents the day and it needs to be a valid day between <code>1</code> and <code>31</code>, <code>0</code> is not valid.</p>\\n<p>If you want to run it every day at midnight you need this:</p>\\n<pre><code class=\"lang-auto\">0 0 * * *\\n</code></pre>\\n<p>This will run at 00:00 every day on UTC, if you need it to run on another timezone you need to specify it using the canonical name</p>\\n<p>Something like:</p>\\n<pre><code class=\"lang-auto\">0 0 * * * America/Chicago\\n</code></pre>   \n",
       "343495                                                                                                                                                                                                                                                                                                                                                                                                                                                                                                                                                                                                                                                                                                                                                                                                                                                                                                                                                                                                                                                                                                                                                                                                                                                                                                                                                                                                                                                                                                                                                                                                                                                                                                                                                                                                                                                                                                                                                                                                                                                                                                                                                                                                                                                                                                                                                                                                                                                                                                                                                                                                                                                                                                                                                                                                                                                                                                                                                                                                                                                                                                                         <p>Thanks</p>   \n",
       "\n",
       "                                                                           title  \\\n",
       "194038                                                 _grokparsefailure problem   \n",
       "194051               How to update alias to capture new matching index patterns?   \n",
       "194052                                      Streamed Logs not loaded into Kibana   \n",
       "194058                                                                      None   \n",
       "194074                                      Error in filter elasticsearch plugin   \n",
       "...                                                                          ...   \n",
       "343469                                             AWS logging integration error   \n",
       "343471                                                REST api: delete dashboard   \n",
       "343472  Can&rsquo;t get Filebeat to ship Nginx Ingress Controller logs using ECK   \n",
       "343478  Invalid cron expression for schedule field of elasticsearch input plugin   \n",
       "343495                                 Implement Async profiler with elastic APM   \n",
       "\n",
       "         topic  \n",
       "194038  194038  \n",
       "194051  194051  \n",
       "194052  194052  \n",
       "194058  194058  \n",
       "194074  194074  \n",
       "...        ...  \n",
       "343469  343469  \n",
       "343471  343471  \n",
       "343472  343472  \n",
       "343478  343478  \n",
       "343495  343495  \n",
       "\n",
       "[26153 rows x 17 columns]"
      ]
     },
     "execution_count": 5,
     "metadata": {},
     "output_type": "execute_result"
    }
   ],
   "source": [
    "df = ed.DataFrame(client, es_index_pattern=index)\n",
    "df"
   ]
  },
  {
   "cell_type": "code",
   "execution_count": null,
   "metadata": {},
   "outputs": [],
   "source": [
    "print(df.info())\n",
    "print(df.describe())"
   ]
  },
  {
   "cell_type": "markdown",
   "metadata": {},
   "source": [
    "You can use most familiar ways of interacting with data frames. See a comparison between pandas and Eland dataframes here: https://eland.readthedocs.io/en/v8.10.1/examples/demo_notebook.html#Compare-Eland-DataFrame-vs-pandas-DataFrame"
   ]
  },
  {
   "cell_type": "code",
   "execution_count": 160,
   "metadata": {},
   "outputs": [
    {
     "data": {
      "image/png": "[encoded data removed]",
      "text/plain": [
       "<Figure size 1000x1000 with 4 Axes>"
      ]
     },
     "metadata": {},
     "output_type": "display_data"
    }
   ],
   "source": [
    "q_low = df[\"question.reads\"].quantile(0.01)\n",
    "q_hi  = df[\"question.reads\"].quantile(0.99)\n",
    "\n",
    "df_filtered = df[(df[\"question.reads\"] < q_hi) & (df[\"question.reads\"] > q_low)]\n",
    "\n",
    "q_low = df[\"solution.post_number\"].quantile(0.01)\n",
    "q_hi  = df[\"solution.post_number\"].quantile(0.99)\n",
    "\n",
    "df_filtered = df_filtered[(df_filtered[\"solution.post_number\"] < q_hi) & (df_filtered[\"solution.post_number\"] > q_low)]\n",
    "\n",
    "df_filtered.select_dtypes(include=np.number).hist(figsize=[10,10])\n",
    "plt.show()"
   ]
  },
  {
   "cell_type": "markdown",
   "metadata": {},
   "source": [
    "### Eland Machine Learning"
   ]
  },
  {
   "cell_type": "markdown",
   "metadata": {},
   "source": [
    "You can use Eland to bring ML models into Elastic and use them on your data. \n",
    "\n",
    "See docs here: https://www.elastic.co/guide/en/elasticsearch/client/eland/current/machine-learning.html"
   ]
  },
  {
   "cell_type": "code",
   "execution_count": 101,
   "metadata": {},
   "outputs": [],
   "source": [
    "training = df[[\"duration\", \"question.reads\", \"solution.post_number\", \"solution.reads\"]].to_pandas().iloc[:200]\n",
    "new = df[[\"duration\", \"question.reads\", \"solution.post_number\", \"solution.reads\"]].to_pandas().iloc[200:220]"
   ]
  },
  {
   "cell_type": "code",
   "execution_count": null,
   "metadata": {},
   "outputs": [],
   "source": [
    "pd_df = df[[\"category_name\"]].to_pandas().iloc[0:220]\n",
    "encodings = pd.factorize(pd_df[\"category_name\"], use_na_sentinel=False)[0]\n",
    "\n",
    "training_target = pd_df.iloc[:200]\n",
    "training_target[\"encodings\"] = encodings[0:200]\n",
    "new_target = pd_df.iloc[200:220]\n",
    "new_target[\"encodings\"] = encodings[200:220]\n"
   ]
  },
  {
   "cell_type": "code",
   "execution_count": 140,
   "metadata": {},
   "outputs": [
    {
     "name": "stdout",
     "output_type": "stream",
     "text": [
      "        duration  question.reads  solution.post_number  solution.reads\n",
      "194038      1014               5                     3               5\n",
      "194051      1291              16                     4              12\n",
      "194052      8562              30                    16              11\n",
      "194058      1827             102                    21              48\n",
      "194074       281              36                     7              21\n",
      "...          ...             ...                   ...             ...\n",
      "205094        60               8                     2               7\n",
      "205106       363               6                     2               5\n",
      "205114       614              31                     2              27\n",
      "205116      1359              14                     4              13\n",
      "205119      7147              64                     6              33\n",
      "\n",
      "[200 rows x 4 columns]\n",
      "        category_name  encodings\n",
      "194038       Logstash          0\n",
      "194051         Kibana          1\n",
      "194052         Kibana          1\n",
      "194058           None          2\n",
      "194074       Logstash          0\n",
      "...               ...        ...\n",
      "205094       Logstash          0\n",
      "205106         Kibana          1\n",
      "205114  Elasticsearch          3\n",
      "205116         Kibana          1\n",
      "205119         Kibana          1\n",
      "\n",
      "[200 rows x 2 columns]\n"
     ]
    }
   ],
   "source": [
    "print(training)\n",
    "print(training_target)"
   ]
  },
  {
   "cell_type": "markdown",
   "metadata": {},
   "source": [
    "As an example, we can take a simple model from scikit-learn and use it on our numeric features. You can see the comparison between running the model in this python environment, or using the trained model directly from Elastic"
   ]
  },
  {
   "cell_type": "code",
   "execution_count": 151,
   "metadata": {},
   "outputs": [
    {
     "data": {
      "text/plain": [
       "array([4, 0, 0, 1, 1, 1, 6, 3, 1, 1, 3, 3, 4, 4, 3, 3, 1, 3, 3, 1])"
      ]
     },
     "execution_count": 151,
     "metadata": {},
     "output_type": "execute_result"
    }
   ],
   "source": [
    "from sklearn import datasets\n",
    "from xgboost import XGBClassifier\n",
    "from eland.ml import MLModel\n",
    "\n",
    "# Train and exercise an XGBoost ML model locally\n",
    "training_data = datasets.make_classification(n_features=5)\n",
    "xgb_model = XGBClassifier(booster=\"gbtree\")\n",
    "xgb_model.fit(training.values, training_target[\"encodings\"].values)\n",
    "\n",
    "xgb_model.predict(new.values)"
   ]
  },
  {
   "cell_type": "code",
   "execution_count": 152,
   "metadata": {},
   "outputs": [
    {
     "data": {
      "text/plain": [
       "array([4, 0, 0, 1, 1, 1, 6, 3, 1, 1, 3, 3, 4, 4, 3, 3, 1, 3, 3, 1])"
      ]
     },
     "execution_count": 152,
     "metadata": {},
     "output_type": "execute_result"
    }
   ],
   "source": [
    "# Import the model into Elasticsearch\n",
    "es_model = MLModel.import_model(\n",
    "    es_client=client,\n",
    "    model_id=\"xgb-classifier_bytes_0\",\n",
    "    model=xgb_model,\n",
    "    feature_names=[\"f0\", \"f1\", \"f2\", \"f3\", \"f4\"],\n",
    ")\n",
    "\n",
    "# Exercise the ML model in Elasticsearch with the training data\n",
    "es_model.predict(new.values)"
   ]
  },
  {
   "cell_type": "markdown",
   "metadata": {},
   "source": [
    "### Eland For NLP + Huggingface"
   ]
  },
  {
   "cell_type": "markdown",
   "metadata": {},
   "source": [
    "We will now take a look at what we can do with our non-numeric features. There are a large number of supported models we support with Eland for various tasks like sentiment analysis, embeddings, or entity recognition. \n",
    "\n",
    "See full list of supproted models here: https://www.elastic.co/guide/en/machine-learning/current/ml-nlp-model-ref.html \n"
   ]
  },
  {
   "cell_type": "code",
   "execution_count": 6,
   "metadata": {},
   "outputs": [],
   "source": [
    "import re\n",
    "pd_df = df[['question.text', 'solution.text']].to_pandas()\n",
    "pd_df_clean = pd_df.applymap(lambda x: re.sub(\"<.*?>|&([a-z0-9]+|#[0-9]{1,6}|#x[0-9a-f]{1,6});r'[^ \\w+]'\", '', str(x)))"
   ]
  },
  {
   "cell_type": "code",
   "execution_count": 7,
   "metadata": {},
   "outputs": [
    {
     "data": {
      "text/html": [
       "<div>\n",
       "<style scoped>\n",
       "    .dataframe tbody tr th:only-of-type {\n",
       "        vertical-align: middle;\n",
       "    }\n",
       "\n",
       "    .dataframe tbody tr th {\n",
       "        vertical-align: top;\n",
       "    }\n",
       "\n",
       "    .dataframe thead th {\n",
       "        text-align: right;\n",
       "    }\n",
       "</style>\n",
       "<table border=\"1\" class=\"dataframe\">\n",
       "  <thead>\n",
       "    <tr style=\"text-align: right;\">\n",
       "      <th></th>\n",
       "      <th>question.text</th>\n",
       "      <th>solution.text</th>\n",
       "    </tr>\n",
       "  </thead>\n",
       "  <tbody>\n",
       "    <tr>\n",
       "      <th>194038</th>\n",
       "      <td>Hello,\\nI have a problem with my filter, i get...</td>\n",
       "      <td>A space was missing , that's why it wasn't wor...</td>\n",
       "    </tr>\n",
       "    <tr>\n",
       "      <th>194051</th>\n",
       "      <td>TL;DR\\nHow do I continuously update an alias t...</td>\n",
       "      <td>My workaround for this was to add the followin...</td>\n",
       "    </tr>\n",
       "    <tr>\n",
       "      <th>194052</th>\n",
       "      <td>Hi there,\\nI am attempting to stream logs from...</td>\n",
       "      <td>Please try the following, tested locally in 6....</td>\n",
       "    </tr>\n",
       "    <tr>\n",
       "      <th>194058</th>\n",
       "      <td>\\n\\nThere is no pipeline plugin. Unlike other ...</td>\n",
       "      <td>Okay. I have solved the pipeline virtual addre...</td>\n",
       "    </tr>\n",
       "    <tr>\n",
       "      <th>194074</th>\n",
       "      <td>Hi all,\\nI am using version 7.2.\\nI encountere...</td>\n",
       "      <td>Can you do the 'grep -rn ...' and verify that ...</td>\n",
       "    </tr>\n",
       "    <tr>\n",
       "      <th>...</th>\n",
       "      <td>...</td>\n",
       "      <td>...</td>\n",
       "    </tr>\n",
       "    <tr>\n",
       "      <th>343469</th>\n",
       "      <td>Hi,\\nI want to integrate the AWS logs into my ...</td>\n",
       "      <td>\\n\\n\\n rachelyang:\\n\\n10.0.9.12 46 96 2 1.51 2...</td>\n",
       "    </tr>\n",
       "    <tr>\n",
       "      <th>343471</th>\n",
       "      <td>I see that the saved objects API is deprecated...</td>\n",
       "      <td>Hello @emmanuel_t,\\nThis API should still work...</td>\n",
       "    </tr>\n",
       "    <tr>\n",
       "      <th>343472</th>\n",
       "      <td>I have ECK setup and running on my kubernetes ...</td>\n",
       "      <td>It looks like part of my issue was a typo in t...</td>\n",
       "    </tr>\n",
       "    <tr>\n",
       "      <th>343478</th>\n",
       "      <td>I have a pipeline whereby the input section lo...</td>\n",
       "      <td>\\n\\n\\n mikec1:\\n\\nschedule =&amp;gt; \"0 0 0 * * ?\"...</td>\n",
       "    </tr>\n",
       "    <tr>\n",
       "      <th>343495</th>\n",
       "      <td>Could you help with setting up async profiler ...</td>\n",
       "      <td>Thanks</td>\n",
       "    </tr>\n",
       "  </tbody>\n",
       "</table>\n",
       "<p>26153 rows × 2 columns</p>\n",
       "</div>"
      ],
      "text/plain": [
       "                                            question.text  \\\n",
       "194038  Hello,\\nI have a problem with my filter, i get...   \n",
       "194051  TL;DR\\nHow do I continuously update an alias t...   \n",
       "194052  Hi there,\\nI am attempting to stream logs from...   \n",
       "194058  \\n\\nThere is no pipeline plugin. Unlike other ...   \n",
       "194074  Hi all,\\nI am using version 7.2.\\nI encountere...   \n",
       "...                                                   ...   \n",
       "343469  Hi,\\nI want to integrate the AWS logs into my ...   \n",
       "343471  I see that the saved objects API is deprecated...   \n",
       "343472  I have ECK setup and running on my kubernetes ...   \n",
       "343478  I have a pipeline whereby the input section lo...   \n",
       "343495  Could you help with setting up async profiler ...   \n",
       "\n",
       "                                            solution.text  \n",
       "194038  A space was missing , that's why it wasn't wor...  \n",
       "194051  My workaround for this was to add the followin...  \n",
       "194052  Please try the following, tested locally in 6....  \n",
       "194058  Okay. I have solved the pipeline virtual addre...  \n",
       "194074  Can you do the 'grep -rn ...' and verify that ...  \n",
       "...                                                   ...  \n",
       "343469  \\n\\n\\n rachelyang:\\n\\n10.0.9.12 46 96 2 1.51 2...  \n",
       "343471  Hello @emmanuel_t,\\nThis API should still work...  \n",
       "343472  It looks like part of my issue was a typo in t...  \n",
       "343478  \\n\\n\\n mikec1:\\n\\nschedule =&gt; \"0 0 0 * * ?\"...  \n",
       "343495                                             Thanks  \n",
       "\n",
       "[26153 rows x 2 columns]"
      ]
     },
     "execution_count": 7,
     "metadata": {},
     "output_type": "execute_result"
    }
   ],
   "source": [
    "pd_df_clean"
   ]
  },
  {
   "cell_type": "markdown",
   "metadata": {},
   "source": [
    "We have cleaned the data and we will now get it into the right format to make calls to our inference API."
   ]
  },
  {
   "cell_type": "code",
   "execution_count": null,
   "metadata": {},
   "outputs": [],
   "source": [
    "docs_questions = pd_df_clean[\"question.text\"].values\n",
    "docs_solutions = pd_df_clean[\"solution.text\"].values\n",
    "\n",
    "docs = []\n",
    "r = docs_questions.size\n",
    "for i in range (0,r):\n",
    "    docs.append({\"text_field\" : docs_questions[i]})\n",
    "    docs.append({\"text_field\" : docs_solutions[i]})\n",
    "\n",
    "docs"
   ]
  },
  {
   "cell_type": "markdown",
   "metadata": {},
   "source": [
    "### Docker setup + model import"
   ]
  },
  {
   "cell_type": "markdown",
   "metadata": {},
   "source": [
    "To make sure things run smoothly with all the requirements and versioning for pytorch and the Elastic clients, we recommend using the docker containers for the NLP tasks. \n",
    "\n",
    "See the docs here: https://www.elastic.co/guide/en/elasticsearch/client/eland/current/machine-learning.html#ml-nlp-pytorch"
   ]
  },
  {
   "cell_type": "markdown",
   "metadata": {},
   "source": [
    "We have recently published a docker client for Eland so you can directly pull it from here rather than building the container locally:\n",
    "\n",
    "https://container-library.elastic.co/r/eland/eland:8.9.0\n",
    "\n",
    "```\n",
    "docker pull docker.elastic.co/eland/eland:8.9.0\n",
    "```"
   ]
  },
  {
   "cell_type": "markdown",
   "metadata": {},
   "source": [
    "You can build the docker in your environment by running the following code in your terminal (and using your credentials locally)"
   ]
  },
  {
   "cell_type": "markdown",
   "metadata": {},
   "source": [
    "export CLOUD_ID=change_me"
   ]
  },
  {
   "cell_type": "markdown",
   "metadata": {},
   "source": [
    "```\n",
    "docker run -it --rm docker.elastic.co/eland/eland:8.9.0 \\\n",
    "    eland_import_hub_model \\\n",
    "      --cloud-id $CLOUD_ID \\\n",
    "      -u $USER -p $PASSWORD \\\n",
    "      --hub-model-id distilbert-base-uncased-finetuned-sst-2-english \\\n",
    "      --task-type text_classification \\\n",
    "      --start \n",
    "```"
   ]
  },
  {
   "cell_type": "markdown",
   "metadata": {},
   "source": [
    "### Importing Sentiment Analysis from Huggingface"
   ]
  },
  {
   "cell_type": "code",
   "execution_count": 53,
   "metadata": {},
   "outputs": [
    {
     "name": "stderr",
     "output_type": "stream",
     "text": [
      "/var/folders/k3/sm4kh0y91fs5_fft4375wwh00000gn/T/ipykernel_3232/78141079.py:1: DeprecationWarning: Importing from the 'elasticsearch.client' module is deprecated. Instead use 'elasticsearch' module for importing the client.\n",
      "  from elasticsearch.client import MlClient\n"
     ]
    },
    {
     "data": {
      "text/plain": [
       "{'routing_state': 'started'}"
      ]
     },
     "execution_count": 53,
     "metadata": {},
     "output_type": "execute_result"
    }
   ],
   "source": [
    "from elasticsearch.client import MlClient\n",
    "\n",
    "model_id = \"distilbert-base-uncased-finetuned-sst-2-english\"\n",
    "\n",
    "models = MlClient.get_trained_models(client, model_id=model_id)\n",
    "models.body\n",
    "\n",
    "stats = MlClient.get_trained_models_stats(client, model_id=model_id)\n",
    "stats.body['trained_model_stats'][0]['deployment_stats']['nodes'][0]['routing_state']"
   ]
  },
  {
   "cell_type": "code",
   "execution_count": 66,
   "metadata": {},
   "outputs": [
    {
     "data": {
      "text/plain": [
       "{'routing_state': 'started'}"
      ]
     },
     "execution_count": 66,
     "metadata": {},
     "output_type": "execute_result"
    }
   ],
   "source": [
    "stats = MlClient.get_trained_models_stats(client, model_id=model_id)\n",
    "stats.body['trained_model_stats'][0]['deployment_stats']['nodes'][0]['routing_state']"
   ]
  },
  {
   "cell_type": "markdown",
   "metadata": {},
   "source": [
    "You can make calls to the model locally, or create a pipeline that applies the transformation to your entire index"
   ]
  },
  {
   "cell_type": "code",
   "execution_count": 73,
   "metadata": {},
   "outputs": [],
   "source": [
    "response = MlClient.infer_trained_model(client, model_id=model_id, docs=docs[0:10], timeout=None)[\"inference_results\"]"
   ]
  },
  {
   "cell_type": "code",
   "execution_count": 77,
   "metadata": {},
   "outputs": [],
   "source": [
    "for i in range(0,10):\n",
    "   docs[i][\"probability\"] = response[i][\"predicted_value\"]\n",
    "   docs[i][\"score\"] = response[i][\"prediction_probability\"]"
   ]
  },
  {
   "cell_type": "code",
   "execution_count": 78,
   "metadata": {},
   "outputs": [
    {
     "data": {
      "text/plain": [
       "[{'text_field': 'Hello,\\nI have a problem with my filter, i get the \"_grokparsefailure\" tag when the concerned logs are processed.\\nHere is my filter file:\\nfilter {\\nif [source] == \"/var/log/auth.log\"{\\ngrok {\\nmatch =&gt;  [ \"message\", \"%{SYSLOGTIMESTAMP:date} %{SYSLOGHOST:host} %{DATA:program}(?:[%{POSINT:pid}])?: %{GREEDYDATA:smt}: %{GREEDYDATA:smt2} for user %{USER:user}\" ]\\nadd_field =&gt; [ \"received_at\", \"%{@timestamp}\" ]\\nadd_field =&gt; [ \"received_from\", \"%{host}\" ]\\n}\\ndate {\\nmatch =&gt;  [ \"date\", \"MMM d HH:mm:ss\", \"MMM dd HH:mm:ss\" ]\\n}\\n}\\n}\\nI tried it with the input: \"Aug  6 12:17:01 stack CRON[14336]: pam_unix(cron:session): session closed for user root\" on  http://grokdebug.herokuapp.com/  and it works fine.\\nIs there any problem with my code ?\\nThank you,\\nManal',\n",
       "  'probability': 'POSITIVE',\n",
       "  'score': 0.9826626663460409},\n",
       " {'text_field': \"A space was missing , that's why it wasn't working. I fixed it. Thank you !\",\n",
       "  'probability': 'POSITIVE',\n",
       "  'score': 0.9610335595916407},\n",
       " {'text_field': 'TL;DR\\nHow do I continuously update an alias to capture new matching index patterns?\\nLonger Version...\\nWe use a non-standard format that looks like this:\\nmyapp-beatname-version-YYYY.mm.dd\\n\\nI.e., a heartbeat index will look like:\\nmyapp-heartbeat-7.2.0-2019.08.06\\n\\nWhen using the Uptime module, the heartbeat documentation notes that the Uptime module matches the index pattern heartbeat-7* and suggests using an alias if the index format doesn\\'t match that. However, the alias documentation makes it clear that the following alias specification:\\n{\\n    \"actions\" : [\\n        { \"add\" : { \"index\" : \"*-heartbeat-*\", \"alias\" : \"heartbeat-7.x.x\" } }\\n    ]\\n}\\n\\nHowever, the index alias documentation states that:\\n\\nIn this case, the alias is a point-in-time alias that will group all current indices that match, it will not automatically update as new indices that match this pattern are added/removed.\\n\\nObviously, this does not work well with the Uptime module, where the alias must continuously update and capture newly-created aliases.\\nI\\'m certain there is a way around this, but I\\'m still enough of a novice in the ELK stack that I don\\'t see it and haven\\'t been able to find it in my searches.',\n",
       "  'probability': 'NEGATIVE',\n",
       "  'score': 0.999617286279932},\n",
       " {'text_field': 'My workaround for this was to add the following to the template:\\n\"aliases\": {\\n  \"heartbeat-7.3.0-alias\": {}\\n},\\n\\nThis has resolved the issue. I already use a script to upload templates to Elasticsearch. This script also edits the templates on the fly to add an additional index pattern match in order to apply it to our alternate index-name convention, so I should be able to update it to add the alias on the fly as well.',\n",
       "  'probability': 'NEGATIVE',\n",
       "  'score': 0.9973071725909045},\n",
       " {'text_field': \"Hi there,\\nI am attempting to stream logs from AWS Lambda into Elasticsearch/Kibana.\\nI am doing so via a POST to the Elasticsearch endpoint, + the index and document type (e.g. POST https://example-es-domain.com/alblogs/alb-access-logs/).\\nI have verified that the lambda is sending out the request by sending to requestbin, and have verified that the information contained in each doc is correct.\\nHowever I can't see any of the information sent to Elasticsearch being loaded into Kibana, and was wondering if I was missing something.\\nThe full flow for the operation is:\\nALB -&gt; S3 -&gt; AWS Lambda -&gt; Elasticsearch\",\n",
       "  'probability': 'NEGATIVE',\n",
       "  'score': 0.9982413812756282},\n",
       " {'text_field': 'Please try the following, tested locally in 6.8, I\\'ve used you index + type naming, which is in your case identical.\\nPUT a pattern for you index\\nPUT alb-access-logs\\n{\\n  \"mappings\": {\\n    \"alb-access-logs\": {\\n      \"properties\": {\\n        \"timestamp\": {\\n          \"type\": \"date\"\\n        }\\n      }\\n    }\\n  }\\n}\\n\\nPOST an example\\nPOST alb-access-logs/alb-access-logs\\n {\\n    \"timestamp\": \"2019-08-06T15:54:46.701974Z\"\\n }\\n\\nLet\\'s check the results:\\n GET alb-access-logs/_search \\n{\\n  \"sort\" : [\\n      {\"timestamp\" : {\"order\" : \"asc\", \"mode\" : \"avg\"}}\\n   ]\\n}\\n\\nthis should work',\n",
       "  'probability': 'NEGATIVE',\n",
       "  'score': 0.9217321490268277},\n",
       " {'text_field': '\\n\\nThere is no pipeline plugin. Unlike other inputs it is implemented in the logstash core.\\n\\n\\nYes, you can keep using files, no need to use config.string. config.string is simpler to use in the documentation.\\n\\n\\nNo, weblogs is not the pipeline id, it is the virtual address of the pipeline input. The pipeline can be called anything.\\n\\n',\n",
       "  'probability': 'NEGATIVE',\n",
       "  'score': 0.9907977387584275},\n",
       " {'text_field': 'Okay. I have solved the pipeline virtual address problem. The name cannot contain - character, so renaming it to \"legacyva\" resolved my problem.\\nThere is some weirdness with yaml that I don\\'t quite understand. As you have described, putting quotes around the [type] variable causes the pipeline to fail to load. Also, setting the type in filebeat to anything other than log causes filebeat to be unable to start. I\\'m thinking it may be expecting certain inputs, but in any case I cannot seem to name this what I want, with or without quotes.\\nSo I really need \"tags\" or some other construct in order to perform the loop properly, and I must put quotes and must not put dashes. I am concerned that using \"tags\" affects the logic, as I am only looking for a single flag match, and == I believe means matches exactly. I\\'ll keep testing to see if I can work out this last piece.\\nedit&gt; Did some searching on \"logstash tags conditionals\" and found that the syntax is different. Not sure where this is documented but I copied a gentleman\\'s example and changed from if [tags] == \"tagname\" to if \"tagname\" in [tags]. I do feel better about this, even if I don\\'t understand it, as that == was really bothering me since it needed to be more of a \"contains\" rather than \"is equal to\" (if I\\'m remembering things correctly). Anyways, glad I learned something, and now my conditional statement is catching my file based on a tag! HOORAY!\\nBig thanks to @Badger, I kept trying to drive off the course and you definitely got me back on path more than once!\\nFor anyone else who is trying to do specifically this thing in the future, that is to say ship many different files with filebeat to a single logstash listener, then separate the pipelines by some pre-defined value so that many filters can be used and some modularity is provided for the index choice, here is the base template you need for your pipeline.conf files:\\nmaster-pipeline.conf\\ninput {\\n  beats {\\n    port =&gt; \"5000\"\\n  }\\n}\\noutput {\\n### conditional statement to separate logs by tag ###\\n  if \"primary\" in [tags] {\\n    pipeline { send_to =&gt; primaryvirtualaddress }\\n  } else {\\n    pipeline { send_to =&gt; fallbackvirtualaddress }\\n  }\\n}\\n\\neach subsequent pipeline:\\nprimary-pipeline.conf\\ninput {\\n  pipeline {\\n    address =&gt; \"primaryvirtualaddress\"\\n  }\\n}\\noutput {\\n  elasticsearch {\\n    hosts =&gt; [\"ES CLUSTER ADDRESS\"]\\n    index =&gt; \"primary_index\"\\n  }\\n}\\n\\nYou may be able to remove the quotes from the address, but I\\'m quite sick of re-testing at this point and I know this template works ',\n",
       "  'probability': 'NEGATIVE',\n",
       "  'score': 0.9984135220801649},\n",
       " {'text_field': 'Hi all,\\nI am using version 7.2.\\nI encountered some trouble while using the filter elasticsearch plugin.\\nThe behavior is very random, some of the data uploaded correctly but I also get some error\\nHere is the log from logstash\\n\\n[2019-08-06T10:07:02,177][WARN ][logstash.filters.elasticsearch] Failed to query elasticsearch for previous event {:index=&gt;\"mapping_device_sn\", :error=&gt;\"[400] {\"error\":{\"root_cause\":[{\"type\":\"query_shard_exception\",\"reason\":\"Failed to parse query [sn:%{[device_sn]}]\",\"index_uuid\":\"vnxHfJgsRz6f4KIne-zZrA\",\"index\":\"mapping_device_sn\"}],\"type\":\"search_phase_execution_exception\",\"reason\":\"all shards failed\",\"phase\":\"query\",\"grouped\":true,\"failed_shards\":[{\"shard\":0,\"index\":\"mapping_device_sn\",\"node\":\"kuAYIY0yTlCZM7Du464gYg\",\"reason\":{\"type\":\"query_shard_exception\",\"reason\":\"Failed to parse query [sn:%{[device_sn]}]\",\"index_uuid\":\"vnxHfJgsRz6f4KIne-zZrA\",\"index\":\"mapping_device_sn\",\"caused_by\":{\"type\":\"parse_exception\",\"reason\":\"Cannot parse \\'sn:%{[device_sn]}\\': Encountered \\\\\" \\\\\"]\\\\\" \\\\\"] \\\\\"\\\\\" at line 1, column 15.\\\\nWas expecting:\\\\n    \\\\\"TO\\\\\" ...\\\\n    \",\"caused_by\":{\"type\":\"parse_exception\",\"reason\":\"Encountered \\\\\" \\\\\"]\\\\\" \\\\\"] \\\\\"\\\\\" at line 1, column 15.\\\\nWas expecting:\\\\n    \\\\\"TO\\\\\" ...\\\\n    \"}}}}]},\"status\":400}\"}\\n\\nLog from elasticsearch\\n[elasticsearch.server][DEBUG] All shards failed for phase: [query]\\n\\n[elasticsearch.server][DEBUG] [0], node[kuAYIY0yTlCZM7Du464gYg], [P], s[STARTED], a[id=NKeTm6rjTgCj_zwuFPyacA]: Failed to execute [SearchRequest{searchType=QUERY_THEN_FETCH, indices=[mapping_device_sn], indicesOptions=IndicesOptions[ignore_unavailable=false, allow_no_indices=true, expand_wildcards_open=true, expand_wildcards_closed=false, allow_aliases_to_multiple_indices=true, forbid_closed_indices=true, ignore_aliases=false, ignore_throttled=true], types=[], routing=\\'null\\', preference=\\'null\\', requestCache=null, scroll=null, maxConcurrentShardRequests=0, batchedReduceSize=512, preFilterShardSize=128, allowPartialSearchResults=true, localClusterAlias=null, getOrCreateAbsoluteStartMillis=-1, ccsMinimizeRoundtrips=true, source={\"size\":1,\"query\":{\"query_string\":{\"query\":\"sn:%{[device_sn]}\",\"fields\":[],\"type\":\"best_fields\",\"default_operator\":\"or\",\"max_determinized_states\":10000,\"enable_position_increments\":true,\"fuzziness\":\"AUTO\",\"fuzzy_prefix_length\":0,\"fuzzy_max_expansions\":50,\"phrase_slop\":0,\"analyze_wildcard\":false,\"escape\":false,\"auto_generate_synonyms_phrase_query\":true,\"fuzzy_transpositions\":true,\"boost\":1.0}},\"sort\":[{\"@timestamp\":{\"order\":\"desc\"}}]}}]\\n\\nMy logstash config\\ninput {\\n    file {\\n        path =&gt; \"/data/ELK_raw/IPS/data/*/ips_aggregate.csv\"\\n        sincedb_path =&gt; \"/dev/null\"\\n        mode =&gt; \"read\"\\n        file_completed_action =&gt; \"log\"\\n        file_completed_log_path =&gt; \"/data/ELK/read_log/ips_read_log.txt\"\\n        type =&gt; \"ips\"\\n    }\\n}\\n\\nfilter {\\n    csv {\\n        autodetect_column_names =&gt; \"true\"\\n        autogenerate_column_names =&gt; \"true\"\\n        skip_header =&gt; \"true\"\\n        separator =&gt; \",\"\\n    }\\nelasticsearch {\\n        hosts =&gt; [\"localhost:9200\"]\\n        index =&gt; \"mapping_ips\"\\n        query =&gt; \"id:%{[id]}\"\\n        result_size =&gt; 1\\n        fields =&gt; {\\n            \" signature_name\" =&gt; \"signature_name\"\\n            \" engine_rule\" =&gt; \"engine_rule\"\\n        }\\n    }\\n\\n   elasticsearch {\\n        hosts =&gt; [\"localhost:9200\"]\\n        index =&gt; \"mapping_device_sn\"\\n        query =&gt; \"sn:%{[device_sn]}\"\\n        result_size =&gt; 1\\n        fields =&gt; {\\n            \"first_industry\" =&gt; \"first_industry\"\\n            \"customer\" =&gt; \"customer\"\\n            \"is_trial\" =&gt; \"is_trial\"\\n            \"product_type\" =&gt; \"product_type\"\\n            \"second_industry\" =&gt; \"second_industry\"\\n            \"warranty_date\" =&gt; \"warranty_date\"\\n        }\\n    }\\n\\n   mutate {\\n        remove_field =&gt; [ \"@timestamp\" ]\\n        remove_field =&gt; [ \"@version\" ]\\n        remove_field =&gt; [ \"host\" ]\\n        remove_field =&gt; [ \"message\" ]\\n        remove_field =&gt; [ \"path\" ] \\n        remove_field =&gt; [ \"type\" ] \\n    }   \\n}\\n\\noutput {\\n    elasticsearch {\\n        hosts =&gt; [\"localhost:9200\"]\\n        index =&gt; \"cv_ips\"\\n    }\\n}\\n\\nHave anyone encountered this before?\\nThanks',\n",
       "  'probability': 'NEGATIVE',\n",
       "  'score': 0.9996519075042721},\n",
       " {'text_field': \"Can you do the 'grep -rn ...' and verify that the line number is always 1?\\nYou do have --pipeline.workers 1 set, right?\",\n",
       "  'probability': 'NEGATIVE',\n",
       "  'score': 0.9978876015717107}]"
      ]
     },
     "execution_count": 78,
     "metadata": {},
     "output_type": "execute_result"
    }
   ],
   "source": [
    "docs[0:10]"
   ]
  },
  {
   "cell_type": "markdown",
   "metadata": {},
   "source": [
    "### Add NLP enrichment to index through pipelines"
   ]
  },
  {
   "cell_type": "markdown",
   "metadata": {},
   "source": [
    "You can create this pipeline in your dev tool."
   ]
  },
  {
   "cell_type": "code",
   "execution_count": null,
   "metadata": {},
   "outputs": [],
   "source": [
    "PUT _ingest/pipeline/sentiment\n",
    "{\n",
    "  \"processors\": [\n",
    "    {\n",
    "      \"inference\": {\n",
    "        \"model_id\": \"distilbert-base-uncased-finetuned-sst-2-english\",\n",
    "        \"field_map\": {\n",
    "          \"Question.text\": \"text_field\"\n",
    "        }\n",
    "      }\n",
    "    }\n",
    "  ]\n",
    "}\n",
    "POST _reindex?wait_for_completion=false\n",
    "{\n",
    "  \"source\": {\n",
    "    \"index\": \"bytes-discuss-06\"\n",
    "  },\n",
    "  \"dest\": {\n",
    "    \"index\": \"bytes-discuss-06-with-sentiment\",\n",
    "    \"pipeline\": \"sentiment\"\n",
    "  }\n",
    "}"
   ]
  }
 ],
 "metadata": {
  "kernelspec": {
   "display_name": ".venv",
   "language": "python",
   "name": "python3"
  },
  "language_info": {
   "codemirror_mode": {
    "name": "ipython",
    "version": 3
   },
   "file_extension": ".py",
   "mimetype": "text/x-python",
   "name": "python",
   "nbconvert_exporter": "python",
   "pygments_lexer": "ipython3",
   "version": "3.11.4"
  },
  "orig_nbformat": 4
 },
 "nbformat": 4,
 "nbformat_minor": 2
}
